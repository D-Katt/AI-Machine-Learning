{
 "cells": [
  {
   "cell_type": "markdown",
   "metadata": {
    "papermill": {
     "duration": 0.036292,
     "end_time": "2021-02-11T08:09:18.365804",
     "exception": false,
     "start_time": "2021-02-11T08:09:18.329512",
     "status": "completed"
    },
    "tags": []
   },
   "source": [
    "# Regression model to predict the house price"
   ]
  },
  {
   "cell_type": "code",
   "execution_count": 1,
   "metadata": {
    "_cell_guid": "b1076dfc-b9ad-4769-8c92-a6c4dae69d19",
    "_uuid": "8f2839f25d086af736a60e9eeb907d3b93b6e0e5",
    "execution": {
     "iopub.execute_input": "2021-02-11T08:09:18.442111Z",
     "iopub.status.busy": "2021-02-11T08:09:18.441374Z",
     "iopub.status.idle": "2021-02-11T08:09:19.607888Z",
     "shell.execute_reply": "2021-02-11T08:09:19.607200Z"
    },
    "papermill": {
     "duration": 1.207076,
     "end_time": "2021-02-11T08:09:19.608104",
     "exception": false,
     "start_time": "2021-02-11T08:09:18.401028",
     "status": "completed"
    },
    "tags": []
   },
   "outputs": [],
   "source": [
    "import numpy as np\n",
    "import pandas as pd\n",
    "import os\n",
    "import matplotlib.pyplot as plt\n",
    "from sklearn.impute import SimpleImputer\n",
    "from sklearn.preprocessing import OneHotEncoder, StandardScaler\n",
    "from sklearn.compose import make_column_transformer\n",
    "from sklearn.ensemble import RandomForestRegressor, GradientBoostingRegressor\n",
    "from sklearn.pipeline import make_pipeline\n",
    "from sklearn.metrics import mean_absolute_error, r2_score"
   ]
  },
  {
   "cell_type": "code",
   "execution_count": 2,
   "metadata": {
    "execution": {
     "iopub.execute_input": "2021-02-11T08:09:19.687362Z",
     "iopub.status.busy": "2021-02-11T08:09:19.686419Z",
     "iopub.status.idle": "2021-02-11T08:09:19.689248Z",
     "shell.execute_reply": "2021-02-11T08:09:19.688560Z"
    },
    "papermill": {
     "duration": 0.044591,
     "end_time": "2021-02-11T08:09:19.689393",
     "exception": false,
     "start_time": "2021-02-11T08:09:19.644802",
     "status": "completed"
    },
    "tags": []
   },
   "outputs": [],
   "source": [
    "plt.style.use('fivethirtyeight')\n",
    "plt.rcParams['figure.figsize'] = 12, 8"
   ]
  },
  {
   "cell_type": "markdown",
   "metadata": {
    "papermill": {
     "duration": 0.033771,
     "end_time": "2021-02-11T08:09:19.757786",
     "exception": false,
     "start_time": "2021-02-11T08:09:19.724015",
     "status": "completed"
    },
    "tags": []
   },
   "source": [
    "### Reading data"
   ]
  },
  {
   "cell_type": "code",
   "execution_count": 3,
   "metadata": {
    "execution": {
     "iopub.execute_input": "2021-02-11T08:09:19.830844Z",
     "iopub.status.busy": "2021-02-11T08:09:19.830159Z",
     "iopub.status.idle": "2021-02-11T08:09:19.837965Z",
     "shell.execute_reply": "2021-02-11T08:09:19.837313Z"
    },
    "papermill": {
     "duration": 0.04642,
     "end_time": "2021-02-11T08:09:19.838107",
     "exception": false,
     "start_time": "2021-02-11T08:09:19.791687",
     "status": "completed"
    },
    "tags": []
   },
   "outputs": [
    {
     "name": "stdout",
     "output_type": "stream",
     "text": [
      "/kaggle/input/house-prices-advanced-regression-techniques/sample_submission.csv\n",
      "/kaggle/input/house-prices-advanced-regression-techniques/data_description.txt\n",
      "/kaggle/input/house-prices-advanced-regression-techniques/train.csv\n",
      "/kaggle/input/house-prices-advanced-regression-techniques/test.csv\n"
     ]
    }
   ],
   "source": [
    "for dirname, _, filenames in os.walk('/kaggle/input'):\n",
    "    for filename in filenames:\n",
    "        print(os.path.join(dirname, filename))"
   ]
  },
  {
   "cell_type": "code",
   "execution_count": 4,
   "metadata": {
    "execution": {
     "iopub.execute_input": "2021-02-11T08:09:19.913065Z",
     "iopub.status.busy": "2021-02-11T08:09:19.912332Z",
     "iopub.status.idle": "2021-02-11T08:09:19.994458Z",
     "shell.execute_reply": "2021-02-11T08:09:19.993724Z"
    },
    "papermill": {
     "duration": 0.121604,
     "end_time": "2021-02-11T08:09:19.994629",
     "exception": false,
     "start_time": "2021-02-11T08:09:19.873025",
     "status": "completed"
    },
    "tags": []
   },
   "outputs": [],
   "source": [
    "train_data = pd.read_csv('/kaggle/input/house-prices-advanced-regression-techniques/train.csv')\n",
    "test_data = pd.read_csv('/kaggle/input/house-prices-advanced-regression-techniques/test.csv')"
   ]
  },
  {
   "cell_type": "markdown",
   "metadata": {
    "papermill": {
     "duration": 0.034308,
     "end_time": "2021-02-11T08:09:20.064022",
     "exception": false,
     "start_time": "2021-02-11T08:09:20.029714",
     "status": "completed"
    },
    "tags": []
   },
   "source": [
    "Train set is comparable in size to the test set. Target column ('SalePrice') is present only in the train set."
   ]
  },
  {
   "cell_type": "code",
   "execution_count": 5,
   "metadata": {
    "execution": {
     "iopub.execute_input": "2021-02-11T08:09:20.142662Z",
     "iopub.status.busy": "2021-02-11T08:09:20.141957Z",
     "iopub.status.idle": "2021-02-11T08:09:20.145841Z",
     "shell.execute_reply": "2021-02-11T08:09:20.145198Z"
    },
    "papermill": {
     "duration": 0.046071,
     "end_time": "2021-02-11T08:09:20.145979",
     "exception": false,
     "start_time": "2021-02-11T08:09:20.099908",
     "status": "completed"
    },
    "tags": []
   },
   "outputs": [
    {
     "data": {
      "text/plain": [
       "(1460, 81)"
      ]
     },
     "execution_count": 5,
     "metadata": {},
     "output_type": "execute_result"
    }
   ],
   "source": [
    "train_data.shape"
   ]
  },
  {
   "cell_type": "code",
   "execution_count": 6,
   "metadata": {
    "execution": {
     "iopub.execute_input": "2021-02-11T08:09:20.221610Z",
     "iopub.status.busy": "2021-02-11T08:09:20.220876Z",
     "iopub.status.idle": "2021-02-11T08:09:20.223839Z",
     "shell.execute_reply": "2021-02-11T08:09:20.224405Z"
    },
    "papermill": {
     "duration": 0.04338,
     "end_time": "2021-02-11T08:09:20.224622",
     "exception": false,
     "start_time": "2021-02-11T08:09:20.181242",
     "status": "completed"
    },
    "tags": []
   },
   "outputs": [
    {
     "data": {
      "text/plain": [
       "(1459, 80)"
      ]
     },
     "execution_count": 6,
     "metadata": {},
     "output_type": "execute_result"
    }
   ],
   "source": [
    "test_data.shape"
   ]
  },
  {
   "cell_type": "code",
   "execution_count": 7,
   "metadata": {
    "execution": {
     "iopub.execute_input": "2021-02-11T08:09:20.299717Z",
     "iopub.status.busy": "2021-02-11T08:09:20.299100Z",
     "iopub.status.idle": "2021-02-11T08:09:20.339240Z",
     "shell.execute_reply": "2021-02-11T08:09:20.339839Z"
    },
    "papermill": {
     "duration": 0.079843,
     "end_time": "2021-02-11T08:09:20.340019",
     "exception": false,
     "start_time": "2021-02-11T08:09:20.260176",
     "status": "completed"
    },
    "tags": []
   },
   "outputs": [
    {
     "data": {
      "text/html": [
       "<div>\n",
       "<style scoped>\n",
       "    .dataframe tbody tr th:only-of-type {\n",
       "        vertical-align: middle;\n",
       "    }\n",
       "\n",
       "    .dataframe tbody tr th {\n",
       "        vertical-align: top;\n",
       "    }\n",
       "\n",
       "    .dataframe thead th {\n",
       "        text-align: right;\n",
       "    }\n",
       "</style>\n",
       "<table border=\"1\" class=\"dataframe\">\n",
       "  <thead>\n",
       "    <tr style=\"text-align: right;\">\n",
       "      <th></th>\n",
       "      <th>Id</th>\n",
       "      <th>MSSubClass</th>\n",
       "      <th>MSZoning</th>\n",
       "      <th>LotFrontage</th>\n",
       "      <th>LotArea</th>\n",
       "      <th>Street</th>\n",
       "      <th>Alley</th>\n",
       "      <th>LotShape</th>\n",
       "      <th>LandContour</th>\n",
       "      <th>Utilities</th>\n",
       "      <th>...</th>\n",
       "      <th>PoolArea</th>\n",
       "      <th>PoolQC</th>\n",
       "      <th>Fence</th>\n",
       "      <th>MiscFeature</th>\n",
       "      <th>MiscVal</th>\n",
       "      <th>MoSold</th>\n",
       "      <th>YrSold</th>\n",
       "      <th>SaleType</th>\n",
       "      <th>SaleCondition</th>\n",
       "      <th>SalePrice</th>\n",
       "    </tr>\n",
       "  </thead>\n",
       "  <tbody>\n",
       "    <tr>\n",
       "      <th>0</th>\n",
       "      <td>1</td>\n",
       "      <td>60</td>\n",
       "      <td>RL</td>\n",
       "      <td>65.0</td>\n",
       "      <td>8450</td>\n",
       "      <td>Pave</td>\n",
       "      <td>NaN</td>\n",
       "      <td>Reg</td>\n",
       "      <td>Lvl</td>\n",
       "      <td>AllPub</td>\n",
       "      <td>...</td>\n",
       "      <td>0</td>\n",
       "      <td>NaN</td>\n",
       "      <td>NaN</td>\n",
       "      <td>NaN</td>\n",
       "      <td>0</td>\n",
       "      <td>2</td>\n",
       "      <td>2008</td>\n",
       "      <td>WD</td>\n",
       "      <td>Normal</td>\n",
       "      <td>208500</td>\n",
       "    </tr>\n",
       "    <tr>\n",
       "      <th>1</th>\n",
       "      <td>2</td>\n",
       "      <td>20</td>\n",
       "      <td>RL</td>\n",
       "      <td>80.0</td>\n",
       "      <td>9600</td>\n",
       "      <td>Pave</td>\n",
       "      <td>NaN</td>\n",
       "      <td>Reg</td>\n",
       "      <td>Lvl</td>\n",
       "      <td>AllPub</td>\n",
       "      <td>...</td>\n",
       "      <td>0</td>\n",
       "      <td>NaN</td>\n",
       "      <td>NaN</td>\n",
       "      <td>NaN</td>\n",
       "      <td>0</td>\n",
       "      <td>5</td>\n",
       "      <td>2007</td>\n",
       "      <td>WD</td>\n",
       "      <td>Normal</td>\n",
       "      <td>181500</td>\n",
       "    </tr>\n",
       "    <tr>\n",
       "      <th>2</th>\n",
       "      <td>3</td>\n",
       "      <td>60</td>\n",
       "      <td>RL</td>\n",
       "      <td>68.0</td>\n",
       "      <td>11250</td>\n",
       "      <td>Pave</td>\n",
       "      <td>NaN</td>\n",
       "      <td>IR1</td>\n",
       "      <td>Lvl</td>\n",
       "      <td>AllPub</td>\n",
       "      <td>...</td>\n",
       "      <td>0</td>\n",
       "      <td>NaN</td>\n",
       "      <td>NaN</td>\n",
       "      <td>NaN</td>\n",
       "      <td>0</td>\n",
       "      <td>9</td>\n",
       "      <td>2008</td>\n",
       "      <td>WD</td>\n",
       "      <td>Normal</td>\n",
       "      <td>223500</td>\n",
       "    </tr>\n",
       "    <tr>\n",
       "      <th>3</th>\n",
       "      <td>4</td>\n",
       "      <td>70</td>\n",
       "      <td>RL</td>\n",
       "      <td>60.0</td>\n",
       "      <td>9550</td>\n",
       "      <td>Pave</td>\n",
       "      <td>NaN</td>\n",
       "      <td>IR1</td>\n",
       "      <td>Lvl</td>\n",
       "      <td>AllPub</td>\n",
       "      <td>...</td>\n",
       "      <td>0</td>\n",
       "      <td>NaN</td>\n",
       "      <td>NaN</td>\n",
       "      <td>NaN</td>\n",
       "      <td>0</td>\n",
       "      <td>2</td>\n",
       "      <td>2006</td>\n",
       "      <td>WD</td>\n",
       "      <td>Abnorml</td>\n",
       "      <td>140000</td>\n",
       "    </tr>\n",
       "    <tr>\n",
       "      <th>4</th>\n",
       "      <td>5</td>\n",
       "      <td>60</td>\n",
       "      <td>RL</td>\n",
       "      <td>84.0</td>\n",
       "      <td>14260</td>\n",
       "      <td>Pave</td>\n",
       "      <td>NaN</td>\n",
       "      <td>IR1</td>\n",
       "      <td>Lvl</td>\n",
       "      <td>AllPub</td>\n",
       "      <td>...</td>\n",
       "      <td>0</td>\n",
       "      <td>NaN</td>\n",
       "      <td>NaN</td>\n",
       "      <td>NaN</td>\n",
       "      <td>0</td>\n",
       "      <td>12</td>\n",
       "      <td>2008</td>\n",
       "      <td>WD</td>\n",
       "      <td>Normal</td>\n",
       "      <td>250000</td>\n",
       "    </tr>\n",
       "  </tbody>\n",
       "</table>\n",
       "<p>5 rows × 81 columns</p>\n",
       "</div>"
      ],
      "text/plain": [
       "   Id  MSSubClass MSZoning  LotFrontage  LotArea Street Alley LotShape  \\\n",
       "0   1          60       RL         65.0     8450   Pave   NaN      Reg   \n",
       "1   2          20       RL         80.0     9600   Pave   NaN      Reg   \n",
       "2   3          60       RL         68.0    11250   Pave   NaN      IR1   \n",
       "3   4          70       RL         60.0     9550   Pave   NaN      IR1   \n",
       "4   5          60       RL         84.0    14260   Pave   NaN      IR1   \n",
       "\n",
       "  LandContour Utilities  ... PoolArea PoolQC Fence MiscFeature MiscVal MoSold  \\\n",
       "0         Lvl    AllPub  ...        0    NaN   NaN         NaN       0      2   \n",
       "1         Lvl    AllPub  ...        0    NaN   NaN         NaN       0      5   \n",
       "2         Lvl    AllPub  ...        0    NaN   NaN         NaN       0      9   \n",
       "3         Lvl    AllPub  ...        0    NaN   NaN         NaN       0      2   \n",
       "4         Lvl    AllPub  ...        0    NaN   NaN         NaN       0     12   \n",
       "\n",
       "  YrSold  SaleType  SaleCondition  SalePrice  \n",
       "0   2008        WD         Normal     208500  \n",
       "1   2007        WD         Normal     181500  \n",
       "2   2008        WD         Normal     223500  \n",
       "3   2006        WD        Abnorml     140000  \n",
       "4   2008        WD         Normal     250000  \n",
       "\n",
       "[5 rows x 81 columns]"
      ]
     },
     "execution_count": 7,
     "metadata": {},
     "output_type": "execute_result"
    }
   ],
   "source": [
    "train_data.head()"
   ]
  },
  {
   "cell_type": "markdown",
   "metadata": {
    "papermill": {
     "duration": 0.03663,
     "end_time": "2021-02-11T08:09:20.412910",
     "exception": false,
     "start_time": "2021-02-11T08:09:20.376280",
     "status": "completed"
    },
    "tags": []
   },
   "source": [
    "### Defining target value and input features"
   ]
  },
  {
   "cell_type": "markdown",
   "metadata": {
    "papermill": {
     "duration": 0.036041,
     "end_time": "2021-02-11T08:09:20.485497",
     "exception": false,
     "start_time": "2021-02-11T08:09:20.449456",
     "status": "completed"
    },
    "tags": []
   },
   "source": [
    "This competition requires to predict total price of the house based on the given numeric and categorical features. In appraisal industry it is generally considered the best approach to estimate the price of real estate per sq.m or sq.ft. Total price is then calculated by multiplying the price per sq.m or sq.ft by the floor area. The reason for that being that size of the house in itself is a parameter, which affects the price per sq.m (the larger the house - the smaller the price per sq.m).\n",
    "\n",
    "Price per sq.m also depends on the number of floors in the house. As a rule, the larger area is being concentrated on the first floor - the higher the price. Multi-storey houses with large basements are priced lower per sq.m than one-storey houses of similar total floor area."
   ]
  },
  {
   "cell_type": "code",
   "execution_count": 8,
   "metadata": {
    "execution": {
     "iopub.execute_input": "2021-02-11T08:09:20.562185Z",
     "iopub.status.busy": "2021-02-11T08:09:20.561412Z",
     "iopub.status.idle": "2021-02-11T08:09:20.585201Z",
     "shell.execute_reply": "2021-02-11T08:09:20.584432Z"
    },
    "papermill": {
     "duration": 0.063344,
     "end_time": "2021-02-11T08:09:20.585354",
     "exception": false,
     "start_time": "2021-02-11T08:09:20.522010",
     "status": "completed"
    },
    "tags": []
   },
   "outputs": [],
   "source": [
    "# Total square footage of the house (basement + 1st floor + 2nd floor)\n",
    "train_data['TotalSF'] = train_data['TotalBsmtSF'] + train_data['1stFlrSF'] + train_data['2ndFlrSF']"
   ]
  },
  {
   "cell_type": "code",
   "execution_count": 9,
   "metadata": {
    "execution": {
     "iopub.execute_input": "2021-02-11T08:09:20.667732Z",
     "iopub.status.busy": "2021-02-11T08:09:20.667018Z",
     "iopub.status.idle": "2021-02-11T08:09:20.672246Z",
     "shell.execute_reply": "2021-02-11T08:09:20.671547Z"
    },
    "papermill": {
     "duration": 0.049905,
     "end_time": "2021-02-11T08:09:20.672390",
     "exception": false,
     "start_time": "2021-02-11T08:09:20.622485",
     "status": "completed"
    },
    "tags": []
   },
   "outputs": [],
   "source": [
    "# Transform the original data for area in sq.ft on each floor into respective share of the total floor area\n",
    "for column in ('TotalBsmtSF', '1stFlrSF', '2ndFlrSF'):\n",
    "    train_data[column] = train_data[column] / train_data['TotalSF']"
   ]
  },
  {
   "cell_type": "code",
   "execution_count": 10,
   "metadata": {
    "execution": {
     "iopub.execute_input": "2021-02-11T08:09:20.753051Z",
     "iopub.status.busy": "2021-02-11T08:09:20.752342Z",
     "iopub.status.idle": "2021-02-11T08:09:20.755958Z",
     "shell.execute_reply": "2021-02-11T08:09:20.755427Z"
    },
    "papermill": {
     "duration": 0.046093,
     "end_time": "2021-02-11T08:09:20.756108",
     "exception": false,
     "start_time": "2021-02-11T08:09:20.710015",
     "status": "completed"
    },
    "tags": []
   },
   "outputs": [],
   "source": [
    "# Transform measument of unfinished area in the basement into its share of the total basement area\n",
    "train_data['BsmtUnfSF'] = train_data['BsmtUnfSF'] / train_data['TotalBsmtSF']"
   ]
  },
  {
   "cell_type": "code",
   "execution_count": 11,
   "metadata": {
    "execution": {
     "iopub.execute_input": "2021-02-11T08:09:20.835977Z",
     "iopub.status.busy": "2021-02-11T08:09:20.835322Z",
     "iopub.status.idle": "2021-02-11T08:09:20.838709Z",
     "shell.execute_reply": "2021-02-11T08:09:20.838093Z"
    },
    "papermill": {
     "duration": 0.045824,
     "end_time": "2021-02-11T08:09:20.838868",
     "exception": false,
     "start_time": "2021-02-11T08:09:20.793044",
     "status": "completed"
    },
    "tags": []
   },
   "outputs": [],
   "source": [
    "# Transform measument of low quality area on all floors into its share of the total floor area\n",
    "train_data['LowQualFinSF'] = train_data['LowQualFinSF'] / train_data['TotalSF']"
   ]
  },
  {
   "cell_type": "code",
   "execution_count": 12,
   "metadata": {
    "execution": {
     "iopub.execute_input": "2021-02-11T08:09:20.916620Z",
     "iopub.status.busy": "2021-02-11T08:09:20.915903Z",
     "iopub.status.idle": "2021-02-11T08:09:20.920145Z",
     "shell.execute_reply": "2021-02-11T08:09:20.920702Z"
    },
    "papermill": {
     "duration": 0.044691,
     "end_time": "2021-02-11T08:09:20.920880",
     "exception": false,
     "start_time": "2021-02-11T08:09:20.876189",
     "status": "completed"
    },
    "tags": []
   },
   "outputs": [],
   "source": [
    "# Target value will be modified to price per sq.ft of total area\n",
    "y_train = train_data['SalePrice'] / train_data['TotalSF']"
   ]
  },
  {
   "cell_type": "code",
   "execution_count": 13,
   "metadata": {
    "execution": {
     "iopub.execute_input": "2021-02-11T08:09:20.998650Z",
     "iopub.status.busy": "2021-02-11T08:09:20.997934Z",
     "iopub.status.idle": "2021-02-11T08:09:21.004298Z",
     "shell.execute_reply": "2021-02-11T08:09:21.004962Z"
    },
    "papermill": {
     "duration": 0.046953,
     "end_time": "2021-02-11T08:09:21.005147",
     "exception": false,
     "start_time": "2021-02-11T08:09:20.958194",
     "status": "completed"
    },
    "tags": []
   },
   "outputs": [],
   "source": [
    "# Input features with the exception of the sale price and object ID\n",
    "x_train = train_data.drop(['Id', 'SalePrice'], axis='columns')"
   ]
  },
  {
   "cell_type": "markdown",
   "metadata": {
    "papermill": {
     "duration": 0.037237,
     "end_time": "2021-02-11T08:09:21.080030",
     "exception": false,
     "start_time": "2021-02-11T08:09:21.042793",
     "status": "completed"
    },
    "tags": []
   },
   "source": [
    "### Dealing with missing values and categorical features"
   ]
  },
  {
   "cell_type": "markdown",
   "metadata": {
    "papermill": {
     "duration": 0.037043,
     "end_time": "2021-02-11T08:09:21.154245",
     "exception": false,
     "start_time": "2021-02-11T08:09:21.117202",
     "status": "completed"
    },
    "tags": []
   },
   "source": [
    "The data requires preprocessing in tearms of dealing with missing values and categorical features. Shuffling the train samples in this case is not necessary because original data is not sorted in any way.\n",
    "\n",
    "All input features that are available in the dataset are relevant to the purpose of pricing the house, though they vary in their significance. The best approach would be to use as much original features as possible and fit the data to some kind of decision tree algorithm, which automatically detects the most important features."
   ]
  },
  {
   "cell_type": "code",
   "execution_count": 14,
   "metadata": {
    "execution": {
     "iopub.execute_input": "2021-02-11T08:09:21.231817Z",
     "iopub.status.busy": "2021-02-11T08:09:21.231179Z",
     "iopub.status.idle": "2021-02-11T08:09:21.247495Z",
     "shell.execute_reply": "2021-02-11T08:09:21.246854Z"
    },
    "papermill": {
     "duration": 0.056012,
     "end_time": "2021-02-11T08:09:21.247656",
     "exception": false,
     "start_time": "2021-02-11T08:09:21.191644",
     "status": "completed"
    },
    "tags": []
   },
   "outputs": [
    {
     "name": "stdout",
     "output_type": "stream",
     "text": [
      "LotFrontage      259\n",
      "Alley           1369\n",
      "MasVnrType         8\n",
      "MasVnrArea         8\n",
      "BsmtQual          37\n",
      "BsmtCond          37\n",
      "BsmtExposure      38\n",
      "BsmtFinType1      37\n",
      "BsmtFinType2      38\n",
      "BsmtUnfSF         37\n",
      "Electrical         1\n",
      "FireplaceQu      690\n",
      "GarageType        81\n",
      "GarageYrBlt       81\n",
      "GarageFinish      81\n",
      "GarageQual        81\n",
      "GarageCond        81\n",
      "PoolQC          1453\n",
      "Fence           1179\n",
      "MiscFeature     1406\n",
      "dtype: int64\n"
     ]
    }
   ],
   "source": [
    "# Checking how many values are missing\n",
    "missing_vals = train_data.isna().sum()\n",
    "print(missing_vals[missing_vals > 0])"
   ]
  },
  {
   "cell_type": "markdown",
   "metadata": {
    "papermill": {
     "duration": 0.037925,
     "end_time": "2021-02-11T08:09:21.323340",
     "exception": false,
     "start_time": "2021-02-11T08:09:21.285415",
     "status": "completed"
    },
    "tags": []
   },
   "source": [
    "Some of the input features have high share of missing values, which makes them less useful for the model. These features are relatively few, and judging by their names we can safely assume they are not crucial. Only the features with less than 100 missing values will be retained for the further analysis."
   ]
  },
  {
   "cell_type": "code",
   "execution_count": 15,
   "metadata": {
    "execution": {
     "iopub.execute_input": "2021-02-11T08:09:21.406431Z",
     "iopub.status.busy": "2021-02-11T08:09:21.405709Z",
     "iopub.status.idle": "2021-02-11T08:09:21.411786Z",
     "shell.execute_reply": "2021-02-11T08:09:21.411028Z"
    },
    "papermill": {
     "duration": 0.050447,
     "end_time": "2021-02-11T08:09:21.411983",
     "exception": false,
     "start_time": "2021-02-11T08:09:21.361536",
     "status": "completed"
    },
    "tags": []
   },
   "outputs": [
    {
     "name": "stdout",
     "output_type": "stream",
     "text": [
      "Index(['LotFrontage', 'Alley', 'FireplaceQu', 'PoolQC', 'Fence',\n",
      "       'MiscFeature'],\n",
      "      dtype='object')\n"
     ]
    }
   ],
   "source": [
    "# Drop columns with more than 100 missing values\n",
    "columns_to_drop = missing_vals[missing_vals > 100].index\n",
    "x_train = x_train.drop(columns_to_drop, axis='columns')\n",
    "print(columns_to_drop)"
   ]
  },
  {
   "cell_type": "markdown",
   "metadata": {
    "papermill": {
     "duration": 0.037987,
     "end_time": "2021-02-11T08:09:21.488606",
     "exception": false,
     "start_time": "2021-02-11T08:09:21.450619",
     "status": "completed"
    },
    "tags": []
   },
   "source": [
    "Missing values in the remaining columns will be imputed using 'median' strategy for numeric columns and 'most_frequent' strategy for categorical columns. Some of the columns that do not contain NaNs in the train set have missing values in the test set. To simplify and automate data processing we add numeric and categorical features to lists, which will be used in a column transformer as part of the data processing and modelling pipeline."
   ]
  },
  {
   "cell_type": "code",
   "execution_count": 16,
   "metadata": {
    "execution": {
     "iopub.execute_input": "2021-02-11T08:09:21.576009Z",
     "iopub.status.busy": "2021-02-11T08:09:21.575309Z",
     "iopub.status.idle": "2021-02-11T08:09:21.577388Z",
     "shell.execute_reply": "2021-02-11T08:09:21.577875Z"
    },
    "papermill": {
     "duration": 0.051057,
     "end_time": "2021-02-11T08:09:21.578074",
     "exception": false,
     "start_time": "2021-02-11T08:09:21.527017",
     "status": "completed"
    },
    "tags": []
   },
   "outputs": [],
   "source": [
    "# Columns by data type\n",
    "cat_columns = list(x_train.select_dtypes(include=['category', 'object']).columns)\n",
    "num_columns = list(x_train.select_dtypes(include=['number']).columns)"
   ]
  },
  {
   "cell_type": "code",
   "execution_count": 17,
   "metadata": {
    "execution": {
     "iopub.execute_input": "2021-02-11T08:09:21.658370Z",
     "iopub.status.busy": "2021-02-11T08:09:21.657709Z",
     "iopub.status.idle": "2021-02-11T08:09:21.663072Z",
     "shell.execute_reply": "2021-02-11T08:09:21.663549Z"
    },
    "papermill": {
     "duration": 0.046985,
     "end_time": "2021-02-11T08:09:21.663755",
     "exception": false,
     "start_time": "2021-02-11T08:09:21.616770",
     "status": "completed"
    },
    "tags": []
   },
   "outputs": [],
   "source": [
    "# Imputing missing values, one-hot-encoding categorical columns.\n",
    "# Scaler is not being used because RandomForest algorithm does not require scaling numeric values.\n",
    "imp_median = SimpleImputer(strategy='median')\n",
    "imp_freq = SimpleImputer(strategy='most_frequent')\n",
    "ohe = OneHotEncoder(sparse=False)\n",
    "\n",
    "cat_transformer = make_pipeline(imp_freq, ohe)\n",
    "\n",
    "col_transformer = make_column_transformer((imp_median, num_columns),\n",
    "                                          (cat_transformer, cat_columns),\n",
    "                                          remainder='passthrough')"
   ]
  },
  {
   "cell_type": "markdown",
   "metadata": {
    "papermill": {
     "duration": 0.045082,
     "end_time": "2021-02-11T08:09:21.759346",
     "exception": false,
     "start_time": "2021-02-11T08:09:21.714264",
     "status": "completed"
    },
    "tags": []
   },
   "source": [
    "### Making a pipeline for regression model"
   ]
  },
  {
   "cell_type": "code",
   "execution_count": 18,
   "metadata": {
    "execution": {
     "iopub.execute_input": "2021-02-11T08:09:21.858783Z",
     "iopub.status.busy": "2021-02-11T08:09:21.857825Z",
     "iopub.status.idle": "2021-02-11T08:09:21.862242Z",
     "shell.execute_reply": "2021-02-11T08:09:21.862761Z"
    },
    "papermill": {
     "duration": 0.049131,
     "end_time": "2021-02-11T08:09:21.862936",
     "exception": false,
     "start_time": "2021-02-11T08:09:21.813805",
     "status": "completed"
    },
    "tags": []
   },
   "outputs": [],
   "source": [
    "# Combine column transformer with the regression model\n",
    "regr_model = RandomForestRegressor()\n",
    "pipe_RF = make_pipeline(col_transformer, regr_model)"
   ]
  },
  {
   "cell_type": "code",
   "execution_count": 19,
   "metadata": {
    "execution": {
     "iopub.execute_input": "2021-02-11T08:09:21.943752Z",
     "iopub.status.busy": "2021-02-11T08:09:21.942821Z",
     "iopub.status.idle": "2021-02-11T08:09:25.963961Z",
     "shell.execute_reply": "2021-02-11T08:09:25.964473Z"
    },
    "papermill": {
     "duration": 4.063141,
     "end_time": "2021-02-11T08:09:25.964678",
     "exception": false,
     "start_time": "2021-02-11T08:09:21.901537",
     "status": "completed"
    },
    "tags": []
   },
   "outputs": [
    {
     "data": {
      "text/plain": [
       "Pipeline(steps=[('columntransformer',\n",
       "                 ColumnTransformer(remainder='passthrough',\n",
       "                                   transformers=[('simpleimputer',\n",
       "                                                  SimpleImputer(strategy='median'),\n",
       "                                                  ['MSSubClass', 'LotArea',\n",
       "                                                   'OverallQual', 'OverallCond',\n",
       "                                                   'YearBuilt', 'YearRemodAdd',\n",
       "                                                   'MasVnrArea', 'BsmtFinSF1',\n",
       "                                                   'BsmtFinSF2', 'BsmtUnfSF',\n",
       "                                                   'TotalBsmtSF', '1stFlrSF',\n",
       "                                                   '2ndFlrSF', 'LowQualFinSF',\n",
       "                                                   'GrLivArea', 'BsmtFullBath'...\n",
       "                                                   'LandSlope', 'Neighborhood',\n",
       "                                                   'Condition1', 'Condition2',\n",
       "                                                   'BldgType', 'HouseStyle',\n",
       "                                                   'RoofStyle', 'RoofMatl',\n",
       "                                                   'Exterior1st', 'Exterior2nd',\n",
       "                                                   'MasVnrType', 'ExterQual',\n",
       "                                                   'ExterCond', 'Foundation',\n",
       "                                                   'BsmtQual', 'BsmtCond',\n",
       "                                                   'BsmtExposure',\n",
       "                                                   'BsmtFinType1',\n",
       "                                                   'BsmtFinType2', 'Heating',\n",
       "                                                   'HeatingQC', 'CentralAir',\n",
       "                                                   'Electrical', 'KitchenQual', ...])])),\n",
       "                ('randomforestregressor', RandomForestRegressor())])"
      ]
     },
     "execution_count": 19,
     "metadata": {},
     "output_type": "execute_result"
    }
   ],
   "source": [
    "# Training the model\n",
    "pipe_RF.fit(x_train, y_train)"
   ]
  },
  {
   "cell_type": "markdown",
   "metadata": {
    "papermill": {
     "duration": 0.039556,
     "end_time": "2021-02-11T08:09:26.043475",
     "exception": false,
     "start_time": "2021-02-11T08:09:26.003919",
     "status": "completed"
    },
    "tags": []
   },
   "source": [
    "### Evaluating the model on the train set"
   ]
  },
  {
   "cell_type": "markdown",
   "metadata": {
    "papermill": {
     "duration": 0.039663,
     "end_time": "2021-02-11T08:09:26.124035",
     "exception": false,
     "start_time": "2021-02-11T08:09:26.084372",
     "status": "completed"
    },
    "tags": []
   },
   "source": [
    "In practice when appraisal specialists create evaluation models they tend to filter out outliers - objects with uptypically high or low prices, that could not be justified by the stardard regression model. Outliers in the real estate market usually belong to one of the following groups:\n",
    "- unique properties with rare features that are not captured in the stardard description;\n",
    "- properties sold on special conditions (seller looking for a quick deal, etc.);\n",
    "- errors in property description.\n",
    "\n",
    "Taking that into account, the optimal metrics to evaluate the house price model would be R2 (determination coefficient) and MAE (Mean Absolute Error). MSE (Mean Squared Error) in this case should not be considered as it amplifies the importance of outliers."
   ]
  },
  {
   "cell_type": "code",
   "execution_count": 20,
   "metadata": {
    "execution": {
     "iopub.execute_input": "2021-02-11T08:09:26.207828Z",
     "iopub.status.busy": "2021-02-11T08:09:26.206805Z",
     "iopub.status.idle": "2021-02-11T08:09:26.289037Z",
     "shell.execute_reply": "2021-02-11T08:09:26.289510Z"
    },
    "papermill": {
     "duration": 0.125784,
     "end_time": "2021-02-11T08:09:26.289708",
     "exception": false,
     "start_time": "2021-02-11T08:09:26.163924",
     "status": "completed"
    },
    "tags": []
   },
   "outputs": [],
   "source": [
    "# Predicting price per sq.ft\n",
    "y_pred = pipe_RF.predict(x_train)"
   ]
  },
  {
   "cell_type": "code",
   "execution_count": 21,
   "metadata": {
    "execution": {
     "iopub.execute_input": "2021-02-11T08:09:26.374471Z",
     "iopub.status.busy": "2021-02-11T08:09:26.373469Z",
     "iopub.status.idle": "2021-02-11T08:09:26.380996Z",
     "shell.execute_reply": "2021-02-11T08:09:26.380494Z"
    },
    "papermill": {
     "duration": 0.051194,
     "end_time": "2021-02-11T08:09:26.381134",
     "exception": false,
     "start_time": "2021-02-11T08:09:26.329940",
     "status": "completed"
    },
    "tags": []
   },
   "outputs": [
    {
     "name": "stdout",
     "output_type": "stream",
     "text": [
      "RandomForest price prediction per sq.ft\n",
      "MAE = 2.2596655584147034\n",
      "R2 = 0.9406245929248331\n"
     ]
    }
   ],
   "source": [
    "# Evaluating the errors based on actual and predicted price per sq.ft\n",
    "MAE = mean_absolute_error(y_pred, y_train)\n",
    "R2 = r2_score(y_pred, y_train)\n",
    "print(f'RandomForest price prediction per sq.ft\\nMAE = {MAE}\\nR2 = {R2}')"
   ]
  },
  {
   "cell_type": "code",
   "execution_count": 22,
   "metadata": {
    "execution": {
     "iopub.execute_input": "2021-02-11T08:09:26.467905Z",
     "iopub.status.busy": "2021-02-11T08:09:26.467222Z",
     "iopub.status.idle": "2021-02-11T08:09:26.469716Z",
     "shell.execute_reply": "2021-02-11T08:09:26.470186Z"
    },
    "papermill": {
     "duration": 0.048643,
     "end_time": "2021-02-11T08:09:26.470357",
     "exception": false,
     "start_time": "2021-02-11T08:09:26.421714",
     "status": "completed"
    },
    "tags": []
   },
   "outputs": [
    {
     "name": "stdout",
     "output_type": "stream",
     "text": [
      "Average price per sq.ft = 69.94400034735276\n",
      "MAE/av.price = 0.03230678181392047\n"
     ]
    }
   ],
   "source": [
    "# Average value of the predicted parameter and MAE to average value ratio\n",
    "av_price_sqft = np.mean(y_train)\n",
    "print(f'Average price per sq.ft = {av_price_sqft}\\nMAE/av.price = {MAE/av_price_sqft}')"
   ]
  },
  {
   "cell_type": "code",
   "execution_count": 23,
   "metadata": {
    "execution": {
     "iopub.execute_input": "2021-02-11T08:09:26.554727Z",
     "iopub.status.busy": "2021-02-11T08:09:26.554103Z",
     "iopub.status.idle": "2021-02-11T08:09:26.559933Z",
     "shell.execute_reply": "2021-02-11T08:09:26.560432Z"
    },
    "papermill": {
     "duration": 0.049716,
     "end_time": "2021-02-11T08:09:26.560643",
     "exception": false,
     "start_time": "2021-02-11T08:09:26.510927",
     "status": "completed"
    },
    "tags": []
   },
   "outputs": [],
   "source": [
    "# Calculating total price of the house\n",
    "train_result = pd.DataFrame({'PredPriceSF': y_pred, 'TotalSF': train_data['TotalSF']})\n",
    "train_result['PredPrice'] = train_result['PredPriceSF'] * train_result['TotalSF']"
   ]
  },
  {
   "cell_type": "code",
   "execution_count": 24,
   "metadata": {
    "execution": {
     "iopub.execute_input": "2021-02-11T08:09:26.643616Z",
     "iopub.status.busy": "2021-02-11T08:09:26.642982Z",
     "iopub.status.idle": "2021-02-11T08:09:26.653189Z",
     "shell.execute_reply": "2021-02-11T08:09:26.652525Z"
    },
    "papermill": {
     "duration": 0.052682,
     "end_time": "2021-02-11T08:09:26.653324",
     "exception": false,
     "start_time": "2021-02-11T08:09:26.600642",
     "status": "completed"
    },
    "tags": []
   },
   "outputs": [
    {
     "data": {
      "text/html": [
       "<div>\n",
       "<style scoped>\n",
       "    .dataframe tbody tr th:only-of-type {\n",
       "        vertical-align: middle;\n",
       "    }\n",
       "\n",
       "    .dataframe tbody tr th {\n",
       "        vertical-align: top;\n",
       "    }\n",
       "\n",
       "    .dataframe thead th {\n",
       "        text-align: right;\n",
       "    }\n",
       "</style>\n",
       "<table border=\"1\" class=\"dataframe\">\n",
       "  <thead>\n",
       "    <tr style=\"text-align: right;\">\n",
       "      <th></th>\n",
       "      <th>PredPriceSF</th>\n",
       "      <th>TotalSF</th>\n",
       "      <th>PredPrice</th>\n",
       "    </tr>\n",
       "  </thead>\n",
       "  <tbody>\n",
       "    <tr>\n",
       "      <th>0</th>\n",
       "      <td>81.744126</td>\n",
       "      <td>2566</td>\n",
       "      <td>209755.428093</td>\n",
       "    </tr>\n",
       "    <tr>\n",
       "      <th>1</th>\n",
       "      <td>71.019841</td>\n",
       "      <td>2524</td>\n",
       "      <td>179254.078790</td>\n",
       "    </tr>\n",
       "    <tr>\n",
       "      <th>2</th>\n",
       "      <td>81.781425</td>\n",
       "      <td>2706</td>\n",
       "      <td>221300.535679</td>\n",
       "    </tr>\n",
       "    <tr>\n",
       "      <th>3</th>\n",
       "      <td>59.946473</td>\n",
       "      <td>2473</td>\n",
       "      <td>148247.627400</td>\n",
       "    </tr>\n",
       "    <tr>\n",
       "      <th>4</th>\n",
       "      <td>77.995463</td>\n",
       "      <td>3343</td>\n",
       "      <td>260738.831234</td>\n",
       "    </tr>\n",
       "  </tbody>\n",
       "</table>\n",
       "</div>"
      ],
      "text/plain": [
       "   PredPriceSF  TotalSF      PredPrice\n",
       "0    81.744126     2566  209755.428093\n",
       "1    71.019841     2524  179254.078790\n",
       "2    81.781425     2706  221300.535679\n",
       "3    59.946473     2473  148247.627400\n",
       "4    77.995463     3343  260738.831234"
      ]
     },
     "execution_count": 24,
     "metadata": {},
     "output_type": "execute_result"
    }
   ],
   "source": [
    "train_result.head()"
   ]
  },
  {
   "cell_type": "code",
   "execution_count": 25,
   "metadata": {
    "execution": {
     "iopub.execute_input": "2021-02-11T08:09:26.742724Z",
     "iopub.status.busy": "2021-02-11T08:09:26.741832Z",
     "iopub.status.idle": "2021-02-11T08:09:26.744956Z",
     "shell.execute_reply": "2021-02-11T08:09:26.745461Z"
    },
    "papermill": {
     "duration": 0.051584,
     "end_time": "2021-02-11T08:09:26.745643",
     "exception": false,
     "start_time": "2021-02-11T08:09:26.694059",
     "status": "completed"
    },
    "tags": []
   },
   "outputs": [
    {
     "name": "stdout",
     "output_type": "stream",
     "text": [
      "RandomForest price prediction\n",
      "MAE=6183.491452766532\n",
      "R2=0.968873534877717\n"
     ]
    }
   ],
   "source": [
    "# Evaluating the errors based on actual and predicted price for the house\n",
    "MAE = mean_absolute_error(train_result['PredPrice'], train_data['SalePrice'])\n",
    "R2 = r2_score(train_result['PredPrice'], train_data['SalePrice'])\n",
    "print(f'RandomForest price prediction\\nMAE={MAE}\\nR2={R2}')"
   ]
  },
  {
   "cell_type": "code",
   "execution_count": 26,
   "metadata": {
    "execution": {
     "iopub.execute_input": "2021-02-11T08:09:26.835483Z",
     "iopub.status.busy": "2021-02-11T08:09:26.834242Z",
     "iopub.status.idle": "2021-02-11T08:09:26.837942Z",
     "shell.execute_reply": "2021-02-11T08:09:26.838528Z"
    },
    "papermill": {
     "duration": 0.051017,
     "end_time": "2021-02-11T08:09:26.838726",
     "exception": false,
     "start_time": "2021-02-11T08:09:26.787709",
     "status": "completed"
    },
    "tags": []
   },
   "outputs": [
    {
     "name": "stdout",
     "output_type": "stream",
     "text": [
      "Average house price = 180921.19589041095\n",
      "MAE/av.price = 0.034177816603158245\n"
     ]
    }
   ],
   "source": [
    "# Average price of the house in the train set and MAE to average value ratio\n",
    "av_house_price = train_data['SalePrice'].mean()\n",
    "print(f'Average house price = {av_house_price}\\nMAE/av.price = {MAE/av_house_price}')"
   ]
  },
  {
   "cell_type": "code",
   "execution_count": 27,
   "metadata": {
    "execution": {
     "iopub.execute_input": "2021-02-11T08:09:26.928684Z",
     "iopub.status.busy": "2021-02-11T08:09:26.927251Z",
     "iopub.status.idle": "2021-02-11T08:09:26.932193Z",
     "shell.execute_reply": "2021-02-11T08:09:26.931646Z"
    },
    "papermill": {
     "duration": 0.051722,
     "end_time": "2021-02-11T08:09:26.932331",
     "exception": false,
     "start_time": "2021-02-11T08:09:26.880609",
     "status": "completed"
    },
    "tags": []
   },
   "outputs": [],
   "source": [
    "# Absolute errors\n",
    "train_result['SalePrice'] = train_data['SalePrice']\n",
    "train_result['AbsError'] = abs(train_result['PredPrice'] - train_result['SalePrice'])"
   ]
  },
  {
   "cell_type": "code",
   "execution_count": 28,
   "metadata": {
    "execution": {
     "iopub.execute_input": "2021-02-11T08:09:27.042813Z",
     "iopub.status.busy": "2021-02-11T08:09:27.039935Z",
     "iopub.status.idle": "2021-02-11T08:09:27.725021Z",
     "shell.execute_reply": "2021-02-11T08:09:27.724358Z"
    },
    "papermill": {
     "duration": 0.750844,
     "end_time": "2021-02-11T08:09:27.725171",
     "exception": false,
     "start_time": "2021-02-11T08:09:26.974327",
     "status": "completed"
    },
    "tags": []
   },
   "outputs": [
    {
     "data": {
      "image/png": "[encoded data removed]",
      "text/plain": [
       "<Figure size 864x576 with 1 Axes>"
      ]
     },
     "metadata": {},
     "output_type": "display_data"
    }
   ],
   "source": [
    "# Distribution of errors and their magnitude\n",
    "plt.hist(train_result['AbsError'], bins=20, log=True)\n",
    "plt.axvline(av_house_price, color='red', label='Average Price', linewidth=2)\n",
    "plt.legend()\n",
    "plt.xlabel('Absolute error')\n",
    "plt.ylabel('Frequency, log scale')\n",
    "plt.title('Distribution of Prediction Errors')\n",
    "plt.show()"
   ]
  },
  {
   "cell_type": "markdown",
   "metadata": {
    "papermill": {
     "duration": 0.0435,
     "end_time": "2021-02-11T08:09:27.812220",
     "exception": false,
     "start_time": "2021-02-11T08:09:27.768720",
     "status": "completed"
    },
    "tags": []
   },
   "source": [
    "The histogram shows that large-scale errors are rare for the model and most likely caused by some errors in the original data or non-typical objects present in the dataset. These objects represent minor share of the training set, however they can significantly distort and skew the regression model.\n",
    "\n",
    "To improve the model quality and robustness to extreme outliers we can eliminate them from the training set altogether. In this case the model will predict prices for typical houses more accurately but errors in regards to extreme outliers will not be eliminated. For practical business purposes this approach would be more useful than overfitting the model on nontypical data samples."
   ]
  },
  {
   "cell_type": "code",
   "execution_count": 29,
   "metadata": {
    "execution": {
     "iopub.execute_input": "2021-02-11T08:09:27.907764Z",
     "iopub.status.busy": "2021-02-11T08:09:27.906752Z",
     "iopub.status.idle": "2021-02-11T08:09:27.915929Z",
     "shell.execute_reply": "2021-02-11T08:09:27.916450Z"
    },
    "papermill": {
     "duration": 0.060594,
     "end_time": "2021-02-11T08:09:27.916632",
     "exception": false,
     "start_time": "2021-02-11T08:09:27.856038",
     "status": "completed"
    },
    "tags": []
   },
   "outputs": [
    {
     "data": {
      "text/html": [
       "<div>\n",
       "<style scoped>\n",
       "    .dataframe tbody tr th:only-of-type {\n",
       "        vertical-align: middle;\n",
       "    }\n",
       "\n",
       "    .dataframe tbody tr th {\n",
       "        vertical-align: top;\n",
       "    }\n",
       "\n",
       "    .dataframe thead th {\n",
       "        text-align: right;\n",
       "    }\n",
       "</style>\n",
       "<table border=\"1\" class=\"dataframe\">\n",
       "  <thead>\n",
       "    <tr style=\"text-align: right;\">\n",
       "      <th></th>\n",
       "      <th>PredPriceSF</th>\n",
       "      <th>TotalSF</th>\n",
       "      <th>PredPrice</th>\n",
       "      <th>SalePrice</th>\n",
       "      <th>AbsError</th>\n",
       "    </tr>\n",
       "  </thead>\n",
       "  <tbody>\n",
       "    <tr>\n",
       "      <th>523</th>\n",
       "      <td>53.990030</td>\n",
       "      <td>7814</td>\n",
       "      <td>421878.092973</td>\n",
       "      <td>184750</td>\n",
       "      <td>237128.092973</td>\n",
       "    </tr>\n",
       "    <tr>\n",
       "      <th>1298</th>\n",
       "      <td>40.137376</td>\n",
       "      <td>11752</td>\n",
       "      <td>471694.448405</td>\n",
       "      <td>160000</td>\n",
       "      <td>311694.448405</td>\n",
       "    </tr>\n",
       "  </tbody>\n",
       "</table>\n",
       "</div>"
      ],
      "text/plain": [
       "      PredPriceSF  TotalSF      PredPrice  SalePrice       AbsError\n",
       "523     53.990030     7814  421878.092973     184750  237128.092973\n",
       "1298    40.137376    11752  471694.448405     160000  311694.448405"
      ]
     },
     "execution_count": 29,
     "metadata": {},
     "output_type": "execute_result"
    }
   ],
   "source": [
    "outliers = train_result[train_result['AbsError'] > 200_000]\n",
    "outliers_indexes = outliers.index\n",
    "outliers"
   ]
  },
  {
   "cell_type": "code",
   "execution_count": 30,
   "metadata": {
    "execution": {
     "iopub.execute_input": "2021-02-11T08:09:28.009756Z",
     "iopub.status.busy": "2021-02-11T08:09:28.008796Z",
     "iopub.status.idle": "2021-02-11T08:09:28.015341Z",
     "shell.execute_reply": "2021-02-11T08:09:28.015971Z"
    },
    "papermill": {
     "duration": 0.055072,
     "end_time": "2021-02-11T08:09:28.016152",
     "exception": false,
     "start_time": "2021-02-11T08:09:27.961080",
     "status": "completed"
    },
    "tags": []
   },
   "outputs": [],
   "source": [
    "# Removing outliers from input data and targets\n",
    "x_train.drop(outliers_indexes, inplace=True)\n",
    "y_train.drop(outliers_indexes, inplace=True)"
   ]
  },
  {
   "cell_type": "code",
   "execution_count": 31,
   "metadata": {
    "execution": {
     "iopub.execute_input": "2021-02-11T08:09:28.107273Z",
     "iopub.status.busy": "2021-02-11T08:09:28.106327Z",
     "iopub.status.idle": "2021-02-11T08:09:32.065723Z",
     "shell.execute_reply": "2021-02-11T08:09:32.066289Z"
    },
    "papermill": {
     "duration": 4.006815,
     "end_time": "2021-02-11T08:09:32.066465",
     "exception": false,
     "start_time": "2021-02-11T08:09:28.059650",
     "status": "completed"
    },
    "tags": []
   },
   "outputs": [
    {
     "data": {
      "text/plain": [
       "Pipeline(steps=[('columntransformer',\n",
       "                 ColumnTransformer(remainder='passthrough',\n",
       "                                   transformers=[('simpleimputer',\n",
       "                                                  SimpleImputer(strategy='median'),\n",
       "                                                  ['MSSubClass', 'LotArea',\n",
       "                                                   'OverallQual', 'OverallCond',\n",
       "                                                   'YearBuilt', 'YearRemodAdd',\n",
       "                                                   'MasVnrArea', 'BsmtFinSF1',\n",
       "                                                   'BsmtFinSF2', 'BsmtUnfSF',\n",
       "                                                   'TotalBsmtSF', '1stFlrSF',\n",
       "                                                   '2ndFlrSF', 'LowQualFinSF',\n",
       "                                                   'GrLivArea', 'BsmtFullBath'...\n",
       "                                                   'LandSlope', 'Neighborhood',\n",
       "                                                   'Condition1', 'Condition2',\n",
       "                                                   'BldgType', 'HouseStyle',\n",
       "                                                   'RoofStyle', 'RoofMatl',\n",
       "                                                   'Exterior1st', 'Exterior2nd',\n",
       "                                                   'MasVnrType', 'ExterQual',\n",
       "                                                   'ExterCond', 'Foundation',\n",
       "                                                   'BsmtQual', 'BsmtCond',\n",
       "                                                   'BsmtExposure',\n",
       "                                                   'BsmtFinType1',\n",
       "                                                   'BsmtFinType2', 'Heating',\n",
       "                                                   'HeatingQC', 'CentralAir',\n",
       "                                                   'Electrical', 'KitchenQual', ...])])),\n",
       "                ('randomforestregressor', RandomForestRegressor())])"
      ]
     },
     "execution_count": 31,
     "metadata": {},
     "output_type": "execute_result"
    }
   ],
   "source": [
    "# Retraining the model on data cleaned from extreme outliers\n",
    "pipe_RF.fit(x_train, y_train)"
   ]
  },
  {
   "cell_type": "code",
   "execution_count": 32,
   "metadata": {
    "execution": {
     "iopub.execute_input": "2021-02-11T08:09:32.158638Z",
     "iopub.status.busy": "2021-02-11T08:09:32.157971Z",
     "iopub.status.idle": "2021-02-11T08:09:32.239183Z",
     "shell.execute_reply": "2021-02-11T08:09:32.239681Z"
    },
    "papermill": {
     "duration": 0.129106,
     "end_time": "2021-02-11T08:09:32.239926",
     "exception": false,
     "start_time": "2021-02-11T08:09:32.110820",
     "status": "completed"
    },
    "tags": []
   },
   "outputs": [],
   "source": [
    "# Predicting price per suare foot\n",
    "y_pred = pipe_RF.predict(x_train)"
   ]
  },
  {
   "cell_type": "code",
   "execution_count": 33,
   "metadata": {
    "execution": {
     "iopub.execute_input": "2021-02-11T08:09:32.333135Z",
     "iopub.status.busy": "2021-02-11T08:09:32.332459Z",
     "iopub.status.idle": "2021-02-11T08:09:32.338911Z",
     "shell.execute_reply": "2021-02-11T08:09:32.339688Z"
    },
    "papermill": {
     "duration": 0.055304,
     "end_time": "2021-02-11T08:09:32.339916",
     "exception": false,
     "start_time": "2021-02-11T08:09:32.284612",
     "status": "completed"
    },
    "tags": []
   },
   "outputs": [
    {
     "name": "stdout",
     "output_type": "stream",
     "text": [
      "RandomForest price prediction per sq.ft\n",
      "MAE = 2.2344065471537315\n",
      "R2 = 0.9469903947503775\n"
     ]
    }
   ],
   "source": [
    "# Evaluating the errors based on actual and predicted price per sq.ft\n",
    "MAE = mean_absolute_error(y_pred, y_train)\n",
    "R2 = r2_score(y_pred, y_train)\n",
    "print(f'RandomForest price prediction per sq.ft\\nMAE = {MAE}\\nR2 = {R2}')"
   ]
  },
  {
   "cell_type": "markdown",
   "metadata": {
    "papermill": {
     "duration": 0.044697,
     "end_time": "2021-02-11T08:09:32.430638",
     "exception": false,
     "start_time": "2021-02-11T08:09:32.385941",
     "status": "completed"
    },
    "tags": []
   },
   "source": [
    "To improve prediction accuracy we can train other regression models on the same data cleaned from extreme outliers with the same preprocessing steps and compare the metrics with results demonstrated by the RandomForest model.\n",
    "\n",
    "We will check the accuracy of GradientBoosting model. Unlike RandomForest, which can work with unscaled numeric data, for this model we will modify the column transformer to include scaling for numeric features."
   ]
  },
  {
   "cell_type": "code",
   "execution_count": 34,
   "metadata": {
    "execution": {
     "iopub.execute_input": "2021-02-11T08:09:32.526074Z",
     "iopub.status.busy": "2021-02-11T08:09:32.525375Z",
     "iopub.status.idle": "2021-02-11T08:09:32.528518Z",
     "shell.execute_reply": "2021-02-11T08:09:32.527999Z"
    },
    "papermill": {
     "duration": 0.053318,
     "end_time": "2021-02-11T08:09:32.528673",
     "exception": false,
     "start_time": "2021-02-11T08:09:32.475355",
     "status": "completed"
    },
    "tags": []
   },
   "outputs": [],
   "source": [
    "# Modifying the column transformer\n",
    "scaler = StandardScaler()\n",
    "num_transformer = make_pipeline(imp_median, scaler)\n",
    "col_transformer_scaled = make_column_transformer((num_transformer, num_columns),\n",
    "                                                 (cat_transformer, cat_columns),\n",
    "                                                 remainder='passthrough')"
   ]
  },
  {
   "cell_type": "code",
   "execution_count": 35,
   "metadata": {
    "execution": {
     "iopub.execute_input": "2021-02-11T08:09:32.622500Z",
     "iopub.status.busy": "2021-02-11T08:09:32.621566Z",
     "iopub.status.idle": "2021-02-11T08:09:34.123166Z",
     "shell.execute_reply": "2021-02-11T08:09:34.123640Z"
    },
    "papermill": {
     "duration": 1.550083,
     "end_time": "2021-02-11T08:09:34.123814",
     "exception": false,
     "start_time": "2021-02-11T08:09:32.573731",
     "status": "completed"
    },
    "tags": []
   },
   "outputs": [
    {
     "data": {
      "text/plain": [
       "Pipeline(steps=[('columntransformer',\n",
       "                 ColumnTransformer(remainder='passthrough',\n",
       "                                   transformers=[('pipeline-1',\n",
       "                                                  Pipeline(steps=[('simpleimputer',\n",
       "                                                                   SimpleImputer(strategy='median')),\n",
       "                                                                  ('standardscaler',\n",
       "                                                                   StandardScaler())]),\n",
       "                                                  ['MSSubClass', 'LotArea',\n",
       "                                                   'OverallQual', 'OverallCond',\n",
       "                                                   'YearBuilt', 'YearRemodAdd',\n",
       "                                                   'MasVnrArea', 'BsmtFinSF1',\n",
       "                                                   'BsmtFinSF2', 'BsmtUnfSF',\n",
       "                                                   'TotalBs...\n",
       "                                                   'LandSlope', 'Neighborhood',\n",
       "                                                   'Condition1', 'Condition2',\n",
       "                                                   'BldgType', 'HouseStyle',\n",
       "                                                   'RoofStyle', 'RoofMatl',\n",
       "                                                   'Exterior1st', 'Exterior2nd',\n",
       "                                                   'MasVnrType', 'ExterQual',\n",
       "                                                   'ExterCond', 'Foundation',\n",
       "                                                   'BsmtQual', 'BsmtCond',\n",
       "                                                   'BsmtExposure',\n",
       "                                                   'BsmtFinType1',\n",
       "                                                   'BsmtFinType2', 'Heating',\n",
       "                                                   'HeatingQC', 'CentralAir',\n",
       "                                                   'Electrical', 'KitchenQual', ...])])),\n",
       "                ('gradientboostingregressor', GradientBoostingRegressor())])"
      ]
     },
     "execution_count": 35,
     "metadata": {},
     "output_type": "execute_result"
    }
   ],
   "source": [
    "# Training GradientBoosting model\n",
    "pipe_GB = make_pipeline(col_transformer_scaled, GradientBoostingRegressor())\n",
    "pipe_GB.fit(x_train, y_train)"
   ]
  },
  {
   "cell_type": "code",
   "execution_count": 36,
   "metadata": {
    "execution": {
     "iopub.execute_input": "2021-02-11T08:09:34.219549Z",
     "iopub.status.busy": "2021-02-11T08:09:34.218614Z",
     "iopub.status.idle": "2021-02-11T08:09:34.271211Z",
     "shell.execute_reply": "2021-02-11T08:09:34.270614Z"
    },
    "papermill": {
     "duration": 0.101722,
     "end_time": "2021-02-11T08:09:34.271353",
     "exception": false,
     "start_time": "2021-02-11T08:09:34.169631",
     "status": "completed"
    },
    "tags": []
   },
   "outputs": [
    {
     "name": "stdout",
     "output_type": "stream",
     "text": [
      "GradientBoosting prediction per sq.ft.\n",
      "MAE = 2.2344065471537315\n",
      "R2 = 0.9469903947503775\n"
     ]
    }
   ],
   "source": [
    "# Evaluating the model\n",
    "pipe_GB.predict(x_train)\n",
    "MAE = mean_absolute_error(y_pred, y_train)\n",
    "R2 = r2_score(y_pred, y_train)\n",
    "print(f'GradientBoosting prediction per sq.ft.\\nMAE = {MAE}\\nR2 = {R2}')"
   ]
  },
  {
   "cell_type": "markdown",
   "metadata": {
    "papermill": {
     "duration": 0.046939,
     "end_time": "2021-02-11T08:09:34.364699",
     "exception": false,
     "start_time": "2021-02-11T08:09:34.317760",
     "status": "completed"
    },
    "tags": []
   },
   "source": [
    "GradientBoosting model did not improved the prediction accuracy. For this task both models are appropriate."
   ]
  },
  {
   "cell_type": "markdown",
   "metadata": {
    "papermill": {
     "duration": 0.04583,
     "end_time": "2021-02-11T08:09:34.457023",
     "exception": false,
     "start_time": "2021-02-11T08:09:34.411193",
     "status": "completed"
    },
    "tags": []
   },
   "source": [
    "### Making prediction on the test set"
   ]
  },
  {
   "cell_type": "code",
   "execution_count": 37,
   "metadata": {
    "execution": {
     "iopub.execute_input": "2021-02-11T08:09:34.554930Z",
     "iopub.status.busy": "2021-02-11T08:09:34.553982Z",
     "iopub.status.idle": "2021-02-11T08:09:34.558355Z",
     "shell.execute_reply": "2021-02-11T08:09:34.557797Z"
    },
    "papermill": {
     "duration": 0.055834,
     "end_time": "2021-02-11T08:09:34.558486",
     "exception": false,
     "start_time": "2021-02-11T08:09:34.502652",
     "status": "completed"
    },
    "tags": []
   },
   "outputs": [
    {
     "data": {
      "text/plain": [
       "1"
      ]
     },
     "execution_count": 37,
     "metadata": {},
     "output_type": "execute_result"
    }
   ],
   "source": [
    "# One of the test data samples contains NaN value in the 'TotalBsmtSF' column\n",
    "test_data['TotalBsmtSF'].isna().sum()"
   ]
  },
  {
   "cell_type": "code",
   "execution_count": 38,
   "metadata": {
    "execution": {
     "iopub.execute_input": "2021-02-11T08:09:34.656691Z",
     "iopub.status.busy": "2021-02-11T08:09:34.656022Z",
     "iopub.status.idle": "2021-02-11T08:09:34.658122Z",
     "shell.execute_reply": "2021-02-11T08:09:34.658599Z"
    },
    "papermill": {
     "duration": 0.054332,
     "end_time": "2021-02-11T08:09:34.658774",
     "exception": false,
     "start_time": "2021-02-11T08:09:34.604442",
     "status": "completed"
    },
    "tags": []
   },
   "outputs": [],
   "source": [
    "# We can assume in this case that missing value means there is no basement in the house\n",
    "test_data['TotalBsmtSF'] = test_data['TotalBsmtSF'].fillna(0)"
   ]
  },
  {
   "cell_type": "code",
   "execution_count": 39,
   "metadata": {
    "execution": {
     "iopub.execute_input": "2021-02-11T08:09:34.756171Z",
     "iopub.status.busy": "2021-02-11T08:09:34.755500Z",
     "iopub.status.idle": "2021-02-11T08:09:34.760871Z",
     "shell.execute_reply": "2021-02-11T08:09:34.761306Z"
    },
    "papermill": {
     "duration": 0.055278,
     "end_time": "2021-02-11T08:09:34.761465",
     "exception": false,
     "start_time": "2021-02-11T08:09:34.706187",
     "status": "completed"
    },
    "tags": []
   },
   "outputs": [],
   "source": [
    "# Calculate total floor area of the houses in the test set\n",
    "# to be able to get the sale price from predicted price per sq.ft\n",
    "test_data['TotalSF'] = test_data['TotalBsmtSF'] + test_data['1stFlrSF'] + test_data['2ndFlrSF']"
   ]
  },
  {
   "cell_type": "code",
   "execution_count": 40,
   "metadata": {
    "execution": {
     "iopub.execute_input": "2021-02-11T08:09:34.857253Z",
     "iopub.status.busy": "2021-02-11T08:09:34.856545Z",
     "iopub.status.idle": "2021-02-11T08:09:34.862349Z",
     "shell.execute_reply": "2021-02-11T08:09:34.863037Z"
    },
    "papermill": {
     "duration": 0.055386,
     "end_time": "2021-02-11T08:09:34.863222",
     "exception": false,
     "start_time": "2021-02-11T08:09:34.807836",
     "status": "completed"
    },
    "tags": []
   },
   "outputs": [],
   "source": [
    "# Transform the original data for area in sq.ft on each floor into respective share of the total floor area\n",
    "for column in ('TotalBsmtSF', '1stFlrSF', '2ndFlrSF'):\n",
    "    test_data[column] = test_data[column] / test_data['TotalSF']"
   ]
  },
  {
   "cell_type": "code",
   "execution_count": 41,
   "metadata": {
    "execution": {
     "iopub.execute_input": "2021-02-11T08:09:34.963704Z",
     "iopub.status.busy": "2021-02-11T08:09:34.962623Z",
     "iopub.status.idle": "2021-02-11T08:09:34.965789Z",
     "shell.execute_reply": "2021-02-11T08:09:34.965247Z"
    },
    "papermill": {
     "duration": 0.055285,
     "end_time": "2021-02-11T08:09:34.965944",
     "exception": false,
     "start_time": "2021-02-11T08:09:34.910659",
     "status": "completed"
    },
    "tags": []
   },
   "outputs": [],
   "source": [
    "# Transform measument of unfinished area in the basement into its share of the total basement area\n",
    "test_data['BsmtUnfSF'] = test_data['BsmtUnfSF'] / test_data['TotalBsmtSF']"
   ]
  },
  {
   "cell_type": "code",
   "execution_count": 42,
   "metadata": {
    "execution": {
     "iopub.execute_input": "2021-02-11T08:09:35.066554Z",
     "iopub.status.busy": "2021-02-11T08:09:35.065859Z",
     "iopub.status.idle": "2021-02-11T08:09:35.068540Z",
     "shell.execute_reply": "2021-02-11T08:09:35.069085Z"
    },
    "papermill": {
     "duration": 0.056365,
     "end_time": "2021-02-11T08:09:35.069272",
     "exception": false,
     "start_time": "2021-02-11T08:09:35.012907",
     "status": "completed"
    },
    "tags": []
   },
   "outputs": [],
   "source": [
    "# Transform measument of low quality area on all floors into its share of the total floor area\n",
    "test_data['LowQualFinSF'] = test_data['LowQualFinSF'] / test_data['TotalSF']"
   ]
  },
  {
   "cell_type": "code",
   "execution_count": 43,
   "metadata": {
    "execution": {
     "iopub.execute_input": "2021-02-11T08:09:35.172211Z",
     "iopub.status.busy": "2021-02-11T08:09:35.171184Z",
     "iopub.status.idle": "2021-02-11T08:09:35.178547Z",
     "shell.execute_reply": "2021-02-11T08:09:35.177990Z"
    },
    "papermill": {
     "duration": 0.060971,
     "end_time": "2021-02-11T08:09:35.178723",
     "exception": false,
     "start_time": "2021-02-11T08:09:35.117752",
     "status": "completed"
    },
    "tags": []
   },
   "outputs": [],
   "source": [
    "# Drop unnecessary columns from the test data\n",
    "x_test = test_data.drop('Id', axis='columns')\n",
    "x_test = x_test.drop(columns_to_drop, axis='columns')"
   ]
  },
  {
   "cell_type": "code",
   "execution_count": 44,
   "metadata": {
    "execution": {
     "iopub.execute_input": "2021-02-11T08:09:35.282870Z",
     "iopub.status.busy": "2021-02-11T08:09:35.282197Z",
     "iopub.status.idle": "2021-02-11T08:09:35.360428Z",
     "shell.execute_reply": "2021-02-11T08:09:35.360998Z"
    },
    "papermill": {
     "duration": 0.134756,
     "end_time": "2021-02-11T08:09:35.361183",
     "exception": false,
     "start_time": "2021-02-11T08:09:35.226427",
     "status": "completed"
    },
    "tags": []
   },
   "outputs": [],
   "source": [
    "# Predicted price per sq.ft.\n",
    "y_pred = pipe_RF.predict(x_test)"
   ]
  },
  {
   "cell_type": "code",
   "execution_count": 45,
   "metadata": {
    "execution": {
     "iopub.execute_input": "2021-02-11T08:09:35.459652Z",
     "iopub.status.busy": "2021-02-11T08:09:35.459046Z",
     "iopub.status.idle": "2021-02-11T08:09:35.465576Z",
     "shell.execute_reply": "2021-02-11T08:09:35.465039Z"
    },
    "papermill": {
     "duration": 0.05709,
     "end_time": "2021-02-11T08:09:35.465728",
     "exception": false,
     "start_time": "2021-02-11T08:09:35.408638",
     "status": "completed"
    },
    "tags": []
   },
   "outputs": [],
   "source": [
    "# Calculate total price based on the predicted price per sq.ft.\n",
    "test_data['PredPriceSF'] = y_pred\n",
    "test_data['SalePrice'] = test_data['TotalSF'] * test_data['PredPriceSF']"
   ]
  },
  {
   "cell_type": "code",
   "execution_count": 46,
   "metadata": {
    "execution": {
     "iopub.execute_input": "2021-02-11T08:09:35.572706Z",
     "iopub.status.busy": "2021-02-11T08:09:35.567431Z",
     "iopub.status.idle": "2021-02-11T08:09:35.576032Z",
     "shell.execute_reply": "2021-02-11T08:09:35.576509Z"
    },
    "papermill": {
     "duration": 0.062786,
     "end_time": "2021-02-11T08:09:35.576691",
     "exception": false,
     "start_time": "2021-02-11T08:09:35.513905",
     "status": "completed"
    },
    "tags": []
   },
   "outputs": [
    {
     "data": {
      "text/html": [
       "<div>\n",
       "<style scoped>\n",
       "    .dataframe tbody tr th:only-of-type {\n",
       "        vertical-align: middle;\n",
       "    }\n",
       "\n",
       "    .dataframe tbody tr th {\n",
       "        vertical-align: top;\n",
       "    }\n",
       "\n",
       "    .dataframe thead th {\n",
       "        text-align: right;\n",
       "    }\n",
       "</style>\n",
       "<table border=\"1\" class=\"dataframe\">\n",
       "  <thead>\n",
       "    <tr style=\"text-align: right;\">\n",
       "      <th></th>\n",
       "      <th>Id</th>\n",
       "      <th>SalePrice</th>\n",
       "    </tr>\n",
       "  </thead>\n",
       "  <tbody>\n",
       "    <tr>\n",
       "      <th>0</th>\n",
       "      <td>1461</td>\n",
       "      <td>122821.333596</td>\n",
       "    </tr>\n",
       "    <tr>\n",
       "      <th>1</th>\n",
       "      <td>1462</td>\n",
       "      <td>164038.460632</td>\n",
       "    </tr>\n",
       "    <tr>\n",
       "      <th>2</th>\n",
       "      <td>1463</td>\n",
       "      <td>190146.772268</td>\n",
       "    </tr>\n",
       "    <tr>\n",
       "      <th>3</th>\n",
       "      <td>1464</td>\n",
       "      <td>185022.210923</td>\n",
       "    </tr>\n",
       "    <tr>\n",
       "      <th>4</th>\n",
       "      <td>1465</td>\n",
       "      <td>181594.303012</td>\n",
       "    </tr>\n",
       "  </tbody>\n",
       "</table>\n",
       "</div>"
      ],
      "text/plain": [
       "     Id      SalePrice\n",
       "0  1461  122821.333596\n",
       "1  1462  164038.460632\n",
       "2  1463  190146.772268\n",
       "3  1464  185022.210923\n",
       "4  1465  181594.303012"
      ]
     },
     "execution_count": 46,
     "metadata": {},
     "output_type": "execute_result"
    }
   ],
   "source": [
    "# Select data for submission\n",
    "submission = test_data[['Id', 'SalePrice']]\n",
    "submission.head()"
   ]
  },
  {
   "cell_type": "code",
   "execution_count": 47,
   "metadata": {
    "execution": {
     "iopub.execute_input": "2021-02-11T08:09:35.678850Z",
     "iopub.status.busy": "2021-02-11T08:09:35.678171Z",
     "iopub.status.idle": "2021-02-11T08:09:35.691906Z",
     "shell.execute_reply": "2021-02-11T08:09:35.691223Z"
    },
    "papermill": {
     "duration": 0.065881,
     "end_time": "2021-02-11T08:09:35.692048",
     "exception": false,
     "start_time": "2021-02-11T08:09:35.626167",
     "status": "completed"
    },
    "tags": []
   },
   "outputs": [],
   "source": [
    "# Saving the results to csv file\n",
    "submission.to_csv('submission.csv', index=False)"
   ]
  },
  {
   "cell_type": "code",
   "execution_count": null,
   "metadata": {
    "papermill": {
     "duration": 0.047421,
     "end_time": "2021-02-11T08:09:35.787645",
     "exception": false,
     "start_time": "2021-02-11T08:09:35.740224",
     "status": "completed"
    },
    "tags": []
   },
   "outputs": [],
   "source": []
  }
 ],
 "metadata": {
  "kernelspec": {
   "display_name": "Python 3",
   "language": "python",
   "name": "python3"
  },
  "language_info": {
   "codemirror_mode": {
    "name": "ipython",
    "version": 3
   },
   "file_extension": ".py",
   "mimetype": "text/x-python",
   "name": "python",
   "nbconvert_exporter": "python",
   "pygments_lexer": "ipython3",
   "version": "3.7.9"
  },
  "papermill": {
   "default_parameters": {},
   "duration": 23.936758,
   "end_time": "2021-02-11T08:09:36.444866",
   "environment_variables": {},
   "exception": null,
   "input_path": "__notebook__.ipynb",
   "output_path": "__notebook__.ipynb",
   "parameters": {},
   "start_time": "2021-02-11T08:09:12.508108",
   "version": "2.2.2"
  }
 },
 "nbformat": 4,
 "nbformat_minor": 4
}
