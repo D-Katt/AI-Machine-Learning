{
 "cells": [
  {
   "cell_type": "markdown",
   "metadata": {
    "papermill": {
     "duration": 0.027663,
     "end_time": "2021-02-21T08:26:02.118715",
     "exception": false,
     "start_time": "2021-02-21T08:26:02.091052",
     "status": "completed"
    },
    "tags": []
   },
   "source": [
    "# Investment Sentiment from the News\n",
    "This notebook compares several ML models applying them to the task of classifying news headlines sentiment. The models could be used to predict the behaviour of retail investors."
   ]
  },
  {
   "cell_type": "code",
   "execution_count": 1,
   "metadata": {
    "_cell_guid": "b1076dfc-b9ad-4769-8c92-a6c4dae69d19",
    "_uuid": "8f2839f25d086af736a60e9eeb907d3b93b6e0e5",
    "execution": {
     "iopub.execute_input": "2021-02-21T08:26:02.178545Z",
     "iopub.status.busy": "2021-02-21T08:26:02.177863Z",
     "iopub.status.idle": "2021-02-21T08:26:03.414678Z",
     "shell.execute_reply": "2021-02-21T08:26:03.415163Z"
    },
    "papermill": {
     "duration": 1.27055,
     "end_time": "2021-02-21T08:26:03.415502",
     "exception": false,
     "start_time": "2021-02-21T08:26:02.144952",
     "status": "completed"
    },
    "tags": []
   },
   "outputs": [],
   "source": [
    "import pandas as pd\n",
    "import os\n",
    "\n",
    "from sklearn.model_selection import train_test_split\n",
    "from sklearn.feature_extraction.text import CountVectorizer, TfidfTransformer\n",
    "from sklearn.preprocessing import LabelEncoder\n",
    "from sklearn.naive_bayes import MultinomialNB\n",
    "from sklearn.linear_model import LogisticRegression, SGDClassifier\n",
    "from sklearn.pipeline import Pipeline\n",
    "from sklearn.metrics import accuracy_score, confusion_matrix, classification_report, roc_auc_score\n",
    "\n",
    "import matplotlib.pyplot as plt\n",
    "import seaborn as sns"
   ]
  },
  {
   "cell_type": "code",
   "execution_count": 2,
   "metadata": {
    "execution": {
     "iopub.execute_input": "2021-02-21T08:26:03.473050Z",
     "iopub.status.busy": "2021-02-21T08:26:03.472070Z",
     "iopub.status.idle": "2021-02-21T08:26:03.475083Z",
     "shell.execute_reply": "2021-02-21T08:26:03.474401Z"
    },
    "papermill": {
     "duration": 0.033353,
     "end_time": "2021-02-21T08:26:03.475225",
     "exception": false,
     "start_time": "2021-02-21T08:26:03.441872",
     "status": "completed"
    },
    "tags": []
   },
   "outputs": [],
   "source": [
    "# DataFrame display settings\n",
    "pd.set_option('display.max_colwidth', 250)"
   ]
  },
  {
   "cell_type": "code",
   "execution_count": 3,
   "metadata": {
    "execution": {
     "iopub.execute_input": "2021-02-21T08:26:03.535027Z",
     "iopub.status.busy": "2021-02-21T08:26:03.534237Z",
     "iopub.status.idle": "2021-02-21T08:26:03.537503Z",
     "shell.execute_reply": "2021-02-21T08:26:03.536994Z"
    },
    "papermill": {
     "duration": 0.034781,
     "end_time": "2021-02-21T08:26:03.537678",
     "exception": false,
     "start_time": "2021-02-21T08:26:03.502897",
     "status": "completed"
    },
    "tags": []
   },
   "outputs": [],
   "source": [
    "# Charts display settings\n",
    "plt.style.use('fivethirtyeight')\n",
    "plt.rcParams['figure.figsize'] = 12, 8\n",
    "plt.rcParams.update({'font.size': 11})"
   ]
  },
  {
   "cell_type": "markdown",
   "metadata": {
    "papermill": {
     "duration": 0.0259,
     "end_time": "2021-02-21T08:26:03.589937",
     "exception": false,
     "start_time": "2021-02-21T08:26:03.564037",
     "status": "completed"
    },
    "tags": []
   },
   "source": [
    "### Data analysis and visualization"
   ]
  },
  {
   "cell_type": "code",
   "execution_count": 4,
   "metadata": {
    "execution": {
     "iopub.execute_input": "2021-02-21T08:26:03.648594Z",
     "iopub.status.busy": "2021-02-21T08:26:03.647903Z",
     "iopub.status.idle": "2021-02-21T08:26:03.674224Z",
     "shell.execute_reply": "2021-02-21T08:26:03.673393Z"
    },
    "papermill": {
     "duration": 0.05753,
     "end_time": "2021-02-21T08:26:03.674421",
     "exception": false,
     "start_time": "2021-02-21T08:26:03.616891",
     "status": "completed"
    },
    "tags": []
   },
   "outputs": [
    {
     "name": "stdout",
     "output_type": "stream",
     "text": [
      "/kaggle/input/sentiment-analysis-for-financial-news/all-data.csv\n",
      "/kaggle/input/sentiment-analysis-for-financial-news/FinancialPhraseBank/Sentences_66Agree.txt\n",
      "/kaggle/input/sentiment-analysis-for-financial-news/FinancialPhraseBank/Sentences_AllAgree.txt\n",
      "/kaggle/input/sentiment-analysis-for-financial-news/FinancialPhraseBank/README.txt\n",
      "/kaggle/input/sentiment-analysis-for-financial-news/FinancialPhraseBank/License.txt\n",
      "/kaggle/input/sentiment-analysis-for-financial-news/FinancialPhraseBank/Sentences_75Agree.txt\n",
      "/kaggle/input/sentiment-analysis-for-financial-news/FinancialPhraseBank/Sentences_50Agree.txt\n"
     ]
    }
   ],
   "source": [
    "for dirname, _, filenames in os.walk('/kaggle/input'):\n",
    "    for filename in filenames:\n",
    "        print(os.path.join(dirname, filename))"
   ]
  },
  {
   "cell_type": "code",
   "execution_count": 5,
   "metadata": {
    "execution": {
     "iopub.execute_input": "2021-02-21T08:26:03.735614Z",
     "iopub.status.busy": "2021-02-21T08:26:03.734866Z",
     "iopub.status.idle": "2021-02-21T08:26:03.786388Z",
     "shell.execute_reply": "2021-02-21T08:26:03.786928Z"
    },
    "papermill": {
     "duration": 0.084357,
     "end_time": "2021-02-21T08:26:03.787140",
     "exception": false,
     "start_time": "2021-02-21T08:26:03.702783",
     "status": "completed"
    },
    "tags": []
   },
   "outputs": [],
   "source": [
    "data = pd.read_csv('/kaggle/input/sentiment-analysis-for-financial-news/all-data.csv',\n",
    "                   header=None,\n",
    "                   names=['sentiment', 'text'],\n",
    "                   encoding='latin-1',\n",
    "                   dtype={'sentiment': 'category'})"
   ]
  },
  {
   "cell_type": "code",
   "execution_count": 6,
   "metadata": {
    "execution": {
     "iopub.execute_input": "2021-02-21T08:26:03.845166Z",
     "iopub.status.busy": "2021-02-21T08:26:03.844374Z",
     "iopub.status.idle": "2021-02-21T08:26:03.852920Z",
     "shell.execute_reply": "2021-02-21T08:26:03.852230Z"
    },
    "papermill": {
     "duration": 0.038737,
     "end_time": "2021-02-21T08:26:03.853067",
     "exception": false,
     "start_time": "2021-02-21T08:26:03.814330",
     "status": "completed"
    },
    "tags": []
   },
   "outputs": [
    {
     "data": {
      "text/plain": [
       "(4846, 2)"
      ]
     },
     "execution_count": 6,
     "metadata": {},
     "output_type": "execute_result"
    }
   ],
   "source": [
    "# Number of rows and columns\n",
    "data.shape"
   ]
  },
  {
   "cell_type": "markdown",
   "metadata": {
    "papermill": {
     "duration": 0.027257,
     "end_time": "2021-02-21T08:26:03.911166",
     "exception": false,
     "start_time": "2021-02-21T08:26:03.883909",
     "status": "completed"
    },
    "tags": []
   },
   "source": [
    "Text corpus available for analysis and classification is not large. It contains less than 5,000 samples in total. Headline samples are paired with sentiment labels."
   ]
  },
  {
   "cell_type": "code",
   "execution_count": 7,
   "metadata": {
    "execution": {
     "iopub.execute_input": "2021-02-21T08:26:03.973154Z",
     "iopub.status.busy": "2021-02-21T08:26:03.972431Z",
     "iopub.status.idle": "2021-02-21T08:26:03.987433Z",
     "shell.execute_reply": "2021-02-21T08:26:03.986855Z"
    },
    "papermill": {
     "duration": 0.048299,
     "end_time": "2021-02-21T08:26:03.987606",
     "exception": false,
     "start_time": "2021-02-21T08:26:03.939307",
     "status": "completed"
    },
    "tags": []
   },
   "outputs": [
    {
     "data": {
      "text/html": [
       "<div>\n",
       "<style scoped>\n",
       "    .dataframe tbody tr th:only-of-type {\n",
       "        vertical-align: middle;\n",
       "    }\n",
       "\n",
       "    .dataframe tbody tr th {\n",
       "        vertical-align: top;\n",
       "    }\n",
       "\n",
       "    .dataframe thead th {\n",
       "        text-align: right;\n",
       "    }\n",
       "</style>\n",
       "<table border=\"1\" class=\"dataframe\">\n",
       "  <thead>\n",
       "    <tr style=\"text-align: right;\">\n",
       "      <th></th>\n",
       "      <th>sentiment</th>\n",
       "      <th>text</th>\n",
       "    </tr>\n",
       "  </thead>\n",
       "  <tbody>\n",
       "    <tr>\n",
       "      <th>0</th>\n",
       "      <td>neutral</td>\n",
       "      <td>According to Gran , the company has no plans to move all production to Russia , although that is where the company is growing .</td>\n",
       "    </tr>\n",
       "    <tr>\n",
       "      <th>1</th>\n",
       "      <td>neutral</td>\n",
       "      <td>Technopolis plans to develop in stages an area of no less than 100,000 square meters in order to host companies working in computer technologies and telecommunications , the statement said .</td>\n",
       "    </tr>\n",
       "    <tr>\n",
       "      <th>2</th>\n",
       "      <td>negative</td>\n",
       "      <td>The international electronic industry company Elcoteq has laid off tens of employees from its Tallinn facility ; contrary to earlier layoffs the company contracted the ranks of its office workers , the daily Postimees reported .</td>\n",
       "    </tr>\n",
       "    <tr>\n",
       "      <th>3</th>\n",
       "      <td>positive</td>\n",
       "      <td>With the new production plant the company would increase its capacity to meet the expected increase in demand and would improve the use of raw materials and therefore increase the production profitability .</td>\n",
       "    </tr>\n",
       "    <tr>\n",
       "      <th>4</th>\n",
       "      <td>positive</td>\n",
       "      <td>According to the company 's updated strategy for the years 2009-2012 , Basware targets a long-term net sales growth in the range of 20 % -40 % with an operating profit margin of 10 % -20 % of net sales .</td>\n",
       "    </tr>\n",
       "  </tbody>\n",
       "</table>\n",
       "</div>"
      ],
      "text/plain": [
       "  sentiment  \\\n",
       "0   neutral   \n",
       "1   neutral   \n",
       "2  negative   \n",
       "3  positive   \n",
       "4  positive   \n",
       "\n",
       "                                                                                                                                                                                                                                   text  \n",
       "0                                                                                                       According to Gran , the company has no plans to move all production to Russia , although that is where the company is growing .  \n",
       "1                                        Technopolis plans to develop in stages an area of no less than 100,000 square meters in order to host companies working in computer technologies and telecommunications , the statement said .  \n",
       "2  The international electronic industry company Elcoteq has laid off tens of employees from its Tallinn facility ; contrary to earlier layoffs the company contracted the ranks of its office workers , the daily Postimees reported .  \n",
       "3                        With the new production plant the company would increase its capacity to meet the expected increase in demand and would improve the use of raw materials and therefore increase the production profitability .  \n",
       "4                           According to the company 's updated strategy for the years 2009-2012 , Basware targets a long-term net sales growth in the range of 20 % -40 % with an operating profit margin of 10 % -20 % of net sales .  "
      ]
     },
     "execution_count": 7,
     "metadata": {},
     "output_type": "execute_result"
    }
   ],
   "source": [
    "# Examples of news classes\n",
    "data.head()"
   ]
  },
  {
   "cell_type": "markdown",
   "metadata": {
    "papermill": {
     "duration": 0.027979,
     "end_time": "2021-02-21T08:26:04.043760",
     "exception": false,
     "start_time": "2021-02-21T08:26:04.015781",
     "status": "completed"
    },
    "tags": []
   },
   "source": [
    "Headlines differ in their length and styles. Texts could consist of words or combine words with numbers and percentages. Some samples contain irregular punctuation, double spaces or extra spaces around punctuation marks."
   ]
  },
  {
   "cell_type": "code",
   "execution_count": 8,
   "metadata": {
    "execution": {
     "iopub.execute_input": "2021-02-21T08:26:04.105405Z",
     "iopub.status.busy": "2021-02-21T08:26:04.104770Z",
     "iopub.status.idle": "2021-02-21T08:26:04.132685Z",
     "shell.execute_reply": "2021-02-21T08:26:04.132106Z"
    },
    "papermill": {
     "duration": 0.060909,
     "end_time": "2021-02-21T08:26:04.132840",
     "exception": false,
     "start_time": "2021-02-21T08:26:04.071931",
     "status": "completed"
    },
    "tags": []
   },
   "outputs": [
    {
     "data": {
      "text/plain": [
       "neutral     0.594098\n",
       "positive    0.281263\n",
       "negative    0.124639\n",
       "Name: sentiment, dtype: float64"
      ]
     },
     "execution_count": 8,
     "metadata": {},
     "output_type": "execute_result"
    }
   ],
   "source": [
    "# Balance of classes\n",
    "classes_distribution = data['sentiment'].value_counts(normalize=True)\n",
    "classes_distribution"
   ]
  },
  {
   "cell_type": "markdown",
   "metadata": {
    "papermill": {
     "duration": 0.028226,
     "end_time": "2021-02-21T08:26:04.189592",
     "exception": false,
     "start_time": "2021-02-21T08:26:04.161366",
     "status": "completed"
    },
    "tags": []
   },
   "source": [
    "Dataset is highly imbalanced. Majority of the samples represent one category - neutral headlines. Negative news account for only 12.5% of the samples."
   ]
  },
  {
   "cell_type": "code",
   "execution_count": 9,
   "metadata": {
    "execution": {
     "iopub.execute_input": "2021-02-21T08:26:04.266834Z",
     "iopub.status.busy": "2021-02-21T08:26:04.266053Z",
     "iopub.status.idle": "2021-02-21T08:26:04.482036Z",
     "shell.execute_reply": "2021-02-21T08:26:04.482519Z"
    },
    "papermill": {
     "duration": 0.264737,
     "end_time": "2021-02-21T08:26:04.482711",
     "exception": false,
     "start_time": "2021-02-21T08:26:04.217974",
     "status": "completed"
    },
    "tags": []
   },
   "outputs": [
    {
     "name": "stderr",
     "output_type": "stream",
     "text": [
      "/opt/conda/lib/python3.7/site-packages/ipykernel_launcher.py:3: MatplotlibDeprecationWarning: normalize=None does not normalize if the sum is less than 1 but this behavior is deprecated since 3.3 until two minor releases later. After the deprecation period the default value will be normalize=True. To prevent normalization pass normalize=False \n",
      "  This is separate from the ipykernel package so we can avoid doing imports until\n"
     ]
    },
    {
     "data": {
      "image/png": "[encoded data removed]",
      "text/plain": [
       "<Figure size 864x576 with 1 Axes>"
      ]
     },
     "metadata": {},
     "output_type": "display_data"
    }
   ],
   "source": [
    "labels = classes_distribution.index\n",
    "values = classes_distribution.values\n",
    "plt.pie(values, labels=labels, startangle=90, autopct='%1.1f%%')\n",
    "plt.title('Distribution of Classes')\n",
    "plt.tight_layout()\n",
    "plt.show()"
   ]
  },
  {
   "cell_type": "code",
   "execution_count": 10,
   "metadata": {
    "execution": {
     "iopub.execute_input": "2021-02-21T08:26:04.597373Z",
     "iopub.status.busy": "2021-02-21T08:26:04.583132Z",
     "iopub.status.idle": "2021-02-21T08:26:04.600033Z",
     "shell.execute_reply": "2021-02-21T08:26:04.600548Z"
    },
    "papermill": {
     "duration": 0.087841,
     "end_time": "2021-02-21T08:26:04.600751",
     "exception": false,
     "start_time": "2021-02-21T08:26:04.512910",
     "status": "completed"
    },
    "tags": []
   },
   "outputs": [],
   "source": [
    "# Headlines length\n",
    "data['n_words'] = data['text'].str.split()  # Split sentences by spaces and convert into lists of words\n",
    "data['n_words'] = data['n_words'].apply(lambda x: [word for word in x if len(word) > 1])  # Remove words shorter than 2 characters\n",
    "data['n_words'] = data['n_words'].apply(lambda x: len(x))"
   ]
  },
  {
   "cell_type": "code",
   "execution_count": 11,
   "metadata": {
    "execution": {
     "iopub.execute_input": "2021-02-21T08:26:04.665719Z",
     "iopub.status.busy": "2021-02-21T08:26:04.665008Z",
     "iopub.status.idle": "2021-02-21T08:26:04.670189Z",
     "shell.execute_reply": "2021-02-21T08:26:04.670692Z"
    },
    "papermill": {
     "duration": 0.039332,
     "end_time": "2021-02-21T08:26:04.670899",
     "exception": false,
     "start_time": "2021-02-21T08:26:04.631567",
     "status": "completed"
    },
    "tags": []
   },
   "outputs": [],
   "source": [
    "# Length statistics\n",
    "min_length = data['n_words'].min()\n",
    "max_length = data['n_words'].max()\n",
    "mean_length = data['n_words'].mean()\n",
    "median_length = data['n_words'].median()"
   ]
  },
  {
   "cell_type": "code",
   "execution_count": 12,
   "metadata": {
    "execution": {
     "iopub.execute_input": "2021-02-21T08:26:04.735632Z",
     "iopub.status.busy": "2021-02-21T08:26:04.734960Z",
     "iopub.status.idle": "2021-02-21T08:26:05.025252Z",
     "shell.execute_reply": "2021-02-21T08:26:05.024495Z"
    },
    "papermill": {
     "duration": 0.324136,
     "end_time": "2021-02-21T08:26:05.025463",
     "exception": false,
     "start_time": "2021-02-21T08:26:04.701327",
     "status": "completed"
    },
    "tags": []
   },
   "outputs": [
    {
     "data": {
      "image/png": "[encoded data removed]",
      "text/plain": [
       "<Figure size 864x576 with 1 Axes>"
      ]
     },
     "metadata": {},
     "output_type": "display_data"
    }
   ],
   "source": [
    "plt.hist(data['n_words'], bins=10)\n",
    "plt.axvline(mean_length, color='red', label='Mean')\n",
    "plt.axvline(median_length, color='green', label='Median')\n",
    "plt.legend()\n",
    "plt.title('Headlines Length')\n",
    "plt.xlabel('Number of words')\n",
    "plt.ylabel('Frequency')\n",
    "plt.show()"
   ]
  },
  {
   "cell_type": "markdown",
   "metadata": {
    "papermill": {
     "duration": 0.031088,
     "end_time": "2021-02-21T08:26:05.090926",
     "exception": false,
     "start_time": "2021-02-21T08:26:05.059838",
     "status": "completed"
    },
    "tags": []
   },
   "source": [
    "Text samples are not uniform in structure. Headlines length varies greately from just one word to 50 words. Mean length value is about 20 words. Distribution is slightly skewed to the right."
   ]
  },
  {
   "cell_type": "code",
   "execution_count": 13,
   "metadata": {
    "execution": {
     "iopub.execute_input": "2021-02-21T08:26:05.159757Z",
     "iopub.status.busy": "2021-02-21T08:26:05.158916Z",
     "iopub.status.idle": "2021-02-21T08:26:05.163699Z",
     "shell.execute_reply": "2021-02-21T08:26:05.163130Z"
    },
    "papermill": {
     "duration": 0.04114,
     "end_time": "2021-02-21T08:26:05.163844",
     "exception": false,
     "start_time": "2021-02-21T08:26:05.122704",
     "status": "completed"
    },
    "tags": []
   },
   "outputs": [
    {
     "name": "stdout",
     "output_type": "stream",
     "text": [
      "Sentence length: 1 - 50 words\n",
      "Mean length = 20.103796945934793\n",
      "Median length = 19.0\n"
     ]
    }
   ],
   "source": [
    "print(f'Sentence length: {min_length} - {max_length} words\\nMean length = {mean_length}\\nMedian length = {median_length}')"
   ]
  },
  {
   "cell_type": "code",
   "execution_count": 14,
   "metadata": {
    "execution": {
     "iopub.execute_input": "2021-02-21T08:26:05.242256Z",
     "iopub.status.busy": "2021-02-21T08:26:05.241593Z",
     "iopub.status.idle": "2021-02-21T08:26:05.246397Z",
     "shell.execute_reply": "2021-02-21T08:26:05.245870Z"
    },
    "papermill": {
     "duration": 0.050811,
     "end_time": "2021-02-21T08:26:05.246634",
     "exception": false,
     "start_time": "2021-02-21T08:26:05.195823",
     "status": "completed"
    },
    "tags": []
   },
   "outputs": [
    {
     "data": {
      "text/html": [
       "<div>\n",
       "<style scoped>\n",
       "    .dataframe tbody tr th:only-of-type {\n",
       "        vertical-align: middle;\n",
       "    }\n",
       "\n",
       "    .dataframe tbody tr th {\n",
       "        vertical-align: top;\n",
       "    }\n",
       "\n",
       "    .dataframe thead th {\n",
       "        text-align: right;\n",
       "    }\n",
       "</style>\n",
       "<table border=\"1\" class=\"dataframe\">\n",
       "  <thead>\n",
       "    <tr style=\"text-align: right;\">\n",
       "      <th></th>\n",
       "      <th>sentiment</th>\n",
       "      <th>text</th>\n",
       "      <th>n_words</th>\n",
       "    </tr>\n",
       "  </thead>\n",
       "  <tbody>\n",
       "    <tr>\n",
       "      <th>176</th>\n",
       "      <td>positive</td>\n",
       "      <td>Cargo volume grew by 7 % .</td>\n",
       "      <td>4</td>\n",
       "    </tr>\n",
       "    <tr>\n",
       "      <th>1023</th>\n",
       "      <td>neutral</td>\n",
       "      <td>All are welcome .</td>\n",
       "      <td>3</td>\n",
       "    </tr>\n",
       "    <tr>\n",
       "      <th>1116</th>\n",
       "      <td>neutral</td>\n",
       "      <td>Welcome !</td>\n",
       "      <td>1</td>\n",
       "    </tr>\n",
       "    <tr>\n",
       "      <th>1461</th>\n",
       "      <td>neutral</td>\n",
       "      <td>You are warmly welcome !</td>\n",
       "      <td>4</td>\n",
       "    </tr>\n",
       "    <tr>\n",
       "      <th>1648</th>\n",
       "      <td>positive</td>\n",
       "      <td>The pipeline is strong .</td>\n",
       "      <td>4</td>\n",
       "    </tr>\n",
       "    <tr>\n",
       "      <th>2399</th>\n",
       "      <td>neutral</td>\n",
       "      <td>All rights reserved .</td>\n",
       "      <td>3</td>\n",
       "    </tr>\n",
       "    <tr>\n",
       "      <th>2518</th>\n",
       "      <td>neutral</td>\n",
       "      <td>Net investment income</td>\n",
       "      <td>3</td>\n",
       "    </tr>\n",
       "    <tr>\n",
       "      <th>2554</th>\n",
       "      <td>neutral</td>\n",
       "      <td>Registration is required .</td>\n",
       "      <td>3</td>\n",
       "    </tr>\n",
       "    <tr>\n",
       "      <th>2569</th>\n",
       "      <td>neutral</td>\n",
       "      <td>Status : Agreed</td>\n",
       "      <td>2</td>\n",
       "    </tr>\n",
       "    <tr>\n",
       "      <th>2972</th>\n",
       "      <td>neutral</td>\n",
       "      <td>Investments are not disclosed .</td>\n",
       "      <td>4</td>\n",
       "    </tr>\n",
       "    <tr>\n",
       "      <th>2983</th>\n",
       "      <td>neutral</td>\n",
       "      <td>It 's not .</td>\n",
       "      <td>3</td>\n",
       "    </tr>\n",
       "    <tr>\n",
       "      <th>3040</th>\n",
       "      <td>neutral</td>\n",
       "      <td>ND = Not disclosed .</td>\n",
       "      <td>3</td>\n",
       "    </tr>\n",
       "    <tr>\n",
       "      <th>3061</th>\n",
       "      <td>neutral</td>\n",
       "      <td>NWC ANALYSIS :</td>\n",
       "      <td>2</td>\n",
       "    </tr>\n",
       "    <tr>\n",
       "      <th>3099</th>\n",
       "      <td>neutral</td>\n",
       "      <td>R&amp;D Loan ) .</td>\n",
       "      <td>2</td>\n",
       "    </tr>\n",
       "    <tr>\n",
       "      <th>3151</th>\n",
       "      <td>neutral</td>\n",
       "      <td>Terms were not disclosed .</td>\n",
       "      <td>4</td>\n",
       "    </tr>\n",
       "    <tr>\n",
       "      <th>3435</th>\n",
       "      <td>neutral</td>\n",
       "      <td>Uncertainties still exist , however .</td>\n",
       "      <td>4</td>\n",
       "    </tr>\n",
       "    <tr>\n",
       "      <th>3450</th>\n",
       "      <td>neutral</td>\n",
       "      <td>What we think ?</td>\n",
       "      <td>3</td>\n",
       "    </tr>\n",
       "    <tr>\n",
       "      <th>3464</th>\n",
       "      <td>neutral</td>\n",
       "      <td>You 're not alone .</td>\n",
       "      <td>4</td>\n",
       "    </tr>\n",
       "    <tr>\n",
       "      <th>3521</th>\n",
       "      <td>neutral</td>\n",
       "      <td>All depends on financing .</td>\n",
       "      <td>4</td>\n",
       "    </tr>\n",
       "    <tr>\n",
       "      <th>3720</th>\n",
       "      <td>neutral</td>\n",
       "      <td>pct lower at 4,442.10 .</td>\n",
       "      <td>4</td>\n",
       "    </tr>\n",
       "    <tr>\n",
       "      <th>4228</th>\n",
       "      <td>neutral</td>\n",
       "      <td>Rapala Fishing Frenzy 2009 .</td>\n",
       "      <td>4</td>\n",
       "    </tr>\n",
       "    <tr>\n",
       "      <th>4715</th>\n",
       "      <td>negative</td>\n",
       "      <td>Subscription sales decreased slightly .</td>\n",
       "      <td>4</td>\n",
       "    </tr>\n",
       "  </tbody>\n",
       "</table>\n",
       "</div>"
      ],
      "text/plain": [
       "     sentiment                                     text  n_words\n",
       "176   positive               Cargo volume grew by 7 % .        4\n",
       "1023   neutral                        All are welcome .        3\n",
       "1116   neutral                                Welcome !        1\n",
       "1461   neutral                 You are warmly welcome !        4\n",
       "1648  positive                 The pipeline is strong .        4\n",
       "2399   neutral                    All rights reserved .        3\n",
       "2518   neutral                    Net investment income        3\n",
       "2554   neutral               Registration is required .        3\n",
       "2569   neutral                          Status : Agreed        2\n",
       "2972   neutral          Investments are not disclosed .        4\n",
       "2983   neutral                              It 's not .        3\n",
       "3040   neutral                     ND = Not disclosed .        3\n",
       "3061   neutral                           NWC ANALYSIS :        2\n",
       "3099   neutral                             R&D Loan ) .        2\n",
       "3151   neutral               Terms were not disclosed .        4\n",
       "3435   neutral    Uncertainties still exist , however .        4\n",
       "3450   neutral                          What we think ?        3\n",
       "3464   neutral                      You 're not alone .        4\n",
       "3521   neutral               All depends on financing .        4\n",
       "3720   neutral                  pct lower at 4,442.10 .        4\n",
       "4228   neutral             Rapala Fishing Frenzy 2009 .        4\n",
       "4715  negative  Subscription sales decreased slightly .        4"
      ]
     },
     "execution_count": 14,
     "metadata": {},
     "output_type": "execute_result"
    }
   ],
   "source": [
    "# Examples of the shortest headlines\n",
    "data[data['n_words'] < 5]"
   ]
  },
  {
   "cell_type": "markdown",
   "metadata": {
    "papermill": {
     "duration": 0.03249,
     "end_time": "2021-02-21T08:26:05.312122",
     "exception": false,
     "start_time": "2021-02-21T08:26:05.279632",
     "status": "completed"
    },
    "tags": []
   },
   "source": [
    "### Functions for modelling"
   ]
  },
  {
   "cell_type": "code",
   "execution_count": 15,
   "metadata": {
    "execution": {
     "iopub.execute_input": "2021-02-21T08:26:05.385172Z",
     "iopub.status.busy": "2021-02-21T08:26:05.384477Z",
     "iopub.status.idle": "2021-02-21T08:26:05.387665Z",
     "shell.execute_reply": "2021-02-21T08:26:05.388174Z"
    },
    "papermill": {
     "duration": 0.042892,
     "end_time": "2021-02-21T08:26:05.388355",
     "exception": false,
     "start_time": "2021-02-21T08:26:05.345463",
     "status": "completed"
    },
    "tags": []
   },
   "outputs": [],
   "source": [
    "def classification_heatmap(cm):\n",
    "    \"\"\"Function produces a heatmap based on the confusion matrix.\"\"\"\n",
    "    sns.heatmap(cm, annot=True, fmt='d', cmap=plt.cm.Reds)\n",
    "    plt.yticks(rotation=0)\n",
    "    plt.title('Confusion Matrix')\n",
    "    plt.show()"
   ]
  },
  {
   "cell_type": "code",
   "execution_count": 16,
   "metadata": {
    "execution": {
     "iopub.execute_input": "2021-02-21T08:26:05.465468Z",
     "iopub.status.busy": "2021-02-21T08:26:05.464484Z",
     "iopub.status.idle": "2021-02-21T08:26:05.468015Z",
     "shell.execute_reply": "2021-02-21T08:26:05.467375Z"
    },
    "papermill": {
     "duration": 0.045193,
     "end_time": "2021-02-21T08:26:05.468167",
     "exception": false,
     "start_time": "2021-02-21T08:26:05.422974",
     "status": "completed"
    },
    "tags": []
   },
   "outputs": [],
   "source": [
    "def accuracy_estimator(model, name):\n",
    "    \"\"\"Function evaluates accuracy metrics for classification model.\"\"\"\n",
    "    # Prediction on the test data\n",
    "    y_pred_class = model.predict(X_test)\n",
    "    \n",
    "    acc = accuracy_score(y_test, y_pred_class)\n",
    "    print(f'{name} model accuracy: {acc}')\n",
    "    \n",
    "    conf_matrix = confusion_matrix(y_test, y_pred_class)\n",
    "    classes_names = le.classes_\n",
    "    columns = ['pred_' + name for name in classes_names]\n",
    "    indexes = ['actual_' + name for name in classes_names]\n",
    "    conf_matrix = pd.DataFrame(conf_matrix, columns=columns, index=indexes)\n",
    "    classification_heatmap(conf_matrix)\n",
    "    \n",
    "    cls_report = classification_report(y_test, y_pred_class, target_names=classes_names)\n",
    "    print(cls_report)\n",
    "    \n",
    "    try:\n",
    "        y_pred_prob = model.predict_proba(X_test)\n",
    "        roc_auc = roc_auc_score(y_test, y_pred_prob, multi_class='ovr')\n",
    "        print(f'ROC AUC = {roc_auc}')\n",
    "    except Exception as e:\n",
    "        print('Probability estimations and ROC AUC are not available.')"
   ]
  },
  {
   "cell_type": "code",
   "execution_count": 17,
   "metadata": {
    "execution": {
     "iopub.execute_input": "2021-02-21T08:26:05.541146Z",
     "iopub.status.busy": "2021-02-21T08:26:05.540365Z",
     "iopub.status.idle": "2021-02-21T08:26:05.543864Z",
     "shell.execute_reply": "2021-02-21T08:26:05.543343Z"
    },
    "papermill": {
     "duration": 0.043009,
     "end_time": "2021-02-21T08:26:05.544014",
     "exception": false,
     "start_time": "2021-02-21T08:26:05.501005",
     "status": "completed"
    },
    "tags": []
   },
   "outputs": [],
   "source": [
    "def sentiment_reader(model, name):\n",
    "    \"\"\"Function creates a pipeline that includes preprocessing steps\n",
    "    and a classifier, fits the model on the training data and\n",
    "    calls a function to estimate classification accuracy on the test data.\"\"\"\n",
    "    pipe = Pipeline([\n",
    "        ('vect', CountVectorizer(ngram_range=(1, 3), max_df=0.8)),  # Transform text into tokens using individual words, pairs and triplets\n",
    "        ('tfidf', TfidfTransformer()),  # Take into account word frequency\n",
    "        ('clf', model)  # Classification model passed to the function\n",
    "    ])\n",
    "    pipe.fit(X_train, y_train)\n",
    "    accuracy_estimator(pipe, name)"
   ]
  },
  {
   "cell_type": "markdown",
   "metadata": {
    "papermill": {
     "duration": 0.033033,
     "end_time": "2021-02-21T08:26:05.611137",
     "exception": false,
     "start_time": "2021-02-21T08:26:05.578104",
     "status": "completed"
    },
    "tags": []
   },
   "source": [
    "### Compare base sklearn models"
   ]
  },
  {
   "cell_type": "code",
   "execution_count": 18,
   "metadata": {
    "execution": {
     "iopub.execute_input": "2021-02-21T08:26:05.685732Z",
     "iopub.status.busy": "2021-02-21T08:26:05.685032Z",
     "iopub.status.idle": "2021-02-21T08:26:05.689703Z",
     "shell.execute_reply": "2021-02-21T08:26:05.689125Z"
    },
    "papermill": {
     "duration": 0.045443,
     "end_time": "2021-02-21T08:26:05.689846",
     "exception": false,
     "start_time": "2021-02-21T08:26:05.644403",
     "status": "completed"
    },
    "tags": []
   },
   "outputs": [
    {
     "data": {
      "text/plain": [
       "array(['negative', 'neutral', 'positive'], dtype=object)"
      ]
     },
     "execution_count": 18,
     "metadata": {},
     "output_type": "execute_result"
    }
   ],
   "source": [
    "# Transform categories into numbers\n",
    "le = LabelEncoder()\n",
    "y = le.fit_transform(data['sentiment'])\n",
    "le.classes_"
   ]
  },
  {
   "cell_type": "code",
   "execution_count": 19,
   "metadata": {
    "execution": {
     "iopub.execute_input": "2021-02-21T08:26:05.764382Z",
     "iopub.status.busy": "2021-02-21T08:26:05.763502Z",
     "iopub.status.idle": "2021-02-21T08:26:05.773321Z",
     "shell.execute_reply": "2021-02-21T08:26:05.772717Z"
    },
    "papermill": {
     "duration": 0.04929,
     "end_time": "2021-02-21T08:26:05.773482",
     "exception": false,
     "start_time": "2021-02-21T08:26:05.724192",
     "status": "completed"
    },
    "tags": []
   },
   "outputs": [],
   "source": [
    "# Withhold 20% of the original data for test purposes.\n",
    "# Take into account class imbalances during the split stratifying the data accoording to y labels.\n",
    "X_train, X_test, y_train, y_test = train_test_split(data['text'],\n",
    "                                                    y,\n",
    "                                                    stratify=y,\n",
    "                                                    test_size=0.2,\n",
    "                                                    random_state=1)"
   ]
  },
  {
   "cell_type": "code",
   "execution_count": 20,
   "metadata": {
    "execution": {
     "iopub.execute_input": "2021-02-21T08:26:05.871828Z",
     "iopub.status.busy": "2021-02-21T08:26:05.866476Z",
     "iopub.status.idle": "2021-02-21T08:26:07.053708Z",
     "shell.execute_reply": "2021-02-21T08:26:07.054436Z"
    },
    "papermill": {
     "duration": 1.246786,
     "end_time": "2021-02-21T08:26:07.054640",
     "exception": false,
     "start_time": "2021-02-21T08:26:05.807854",
     "status": "completed"
    },
    "tags": []
   },
   "outputs": [
    {
     "name": "stdout",
     "output_type": "stream",
     "text": [
      "NaiveBayes model accuracy: 0.6690721649484536\n"
     ]
    },
    {
     "data": {
      "image/png": "[encoded data removed]",
      "text/plain": [
       "<Figure size 864x576 with 2 Axes>"
      ]
     },
     "metadata": {},
     "output_type": "display_data"
    },
    {
     "name": "stdout",
     "output_type": "stream",
     "text": [
      "              precision    recall  f1-score   support\n",
      "\n",
      "    negative       1.00      0.09      0.17       121\n",
      "     neutral       0.66      0.99      0.79       576\n",
      "    positive       0.67      0.25      0.37       273\n",
      "\n",
      "    accuracy                           0.67       970\n",
      "   macro avg       0.78      0.44      0.44       970\n",
      "weighted avg       0.71      0.67      0.60       970\n",
      "\n",
      "ROC AUC = 0.7975707742815074\n"
     ]
    }
   ],
   "source": [
    "# Create and evaluate NaiveBayes model with base parameters.\n",
    "sentiment_reader(MultinomialNB(), 'NaiveBayes')"
   ]
  },
  {
   "cell_type": "markdown",
   "metadata": {
    "papermill": {
     "duration": 0.035639,
     "end_time": "2021-02-21T08:26:07.125996",
     "exception": false,
     "start_time": "2021-02-21T08:26:07.090357",
     "status": "completed"
    },
    "tags": []
   },
   "source": [
    "Accuracy score of this model is higher than the share of the most frequent class in the dataset, but confusion matrix shows that the model is largerly useless. The model fails to correctly classify negative news - the least represented category in the training set. Majority of the samples in the negative category were attributed to the wrong classes. The highest recall was shown for the neutral news. However, the model frequently confuses positive and neutral news, and in the positive category recall is very low. ROC AUC is relatively high, but this high level could not be considered as an indicator of the model's quality. For any practical business purposes it would be more useful to correctly classify the extremes (positive and negative sentiment), which lead to changes in investment behaviour, than to be pricise in labelling neutral sentiment."
   ]
  },
  {
   "cell_type": "code",
   "execution_count": 21,
   "metadata": {
    "execution": {
     "iopub.execute_input": "2021-02-21T08:26:07.223605Z",
     "iopub.status.busy": "2021-02-21T08:26:07.218458Z",
     "iopub.status.idle": "2021-02-21T08:26:16.757848Z",
     "shell.execute_reply": "2021-02-21T08:26:16.758611Z"
    },
    "papermill": {
     "duration": 9.595938,
     "end_time": "2021-02-21T08:26:16.758849",
     "exception": false,
     "start_time": "2021-02-21T08:26:07.162911",
     "status": "completed"
    },
    "tags": []
   },
   "outputs": [
    {
     "name": "stdout",
     "output_type": "stream",
     "text": [
      "LogisticRegression model accuracy: 0.7453608247422681\n"
     ]
    },
    {
     "data": {
      "image/png": "[encoded data removed]",
      "text/plain": [
       "<Figure size 864x576 with 2 Axes>"
      ]
     },
     "metadata": {},
     "output_type": "display_data"
    },
    {
     "name": "stdout",
     "output_type": "stream",
     "text": [
      "              precision    recall  f1-score   support\n",
      "\n",
      "    negative       0.68      0.57      0.62       121\n",
      "     neutral       0.80      0.85      0.82       576\n",
      "    positive       0.64      0.61      0.62       273\n",
      "\n",
      "    accuracy                           0.75       970\n",
      "   macro avg       0.71      0.68      0.69       970\n",
      "weighted avg       0.74      0.75      0.74       970\n",
      "\n",
      "ROC AUC = 0.8592442232087021\n"
     ]
    }
   ],
   "source": [
    "# Create and evaluate LogisticRegression model specifying 'class_weight' parameter as 'balanced'\n",
    "# to compensate for class imbalances. Large 'max_iter' will ensure that the model converges.\n",
    "sentiment_reader(LogisticRegression(class_weight='balanced', max_iter=1000), 'LogisticRegression')"
   ]
  },
  {
   "cell_type": "markdown",
   "metadata": {
    "papermill": {
     "duration": 0.038314,
     "end_time": "2021-02-21T08:26:16.837074",
     "exception": false,
     "start_time": "2021-02-21T08:26:16.798760",
     "status": "completed"
    },
    "tags": []
   },
   "source": [
    "Logistic regression model demonstrated higher accuracy score and higher ROC AUC compared to the previous model. This model is more adequate for the task at hand. In each category the largest numbers in the confusion matrix are located on the main diagonal. Both precision and recall scores are above 50%, which proves that the model is not just guessing and randomly assigning classes. However, prediction accuracy for negative and positive news is still not high enough to use this model for any business decisions."
   ]
  },
  {
   "cell_type": "code",
   "execution_count": 22,
   "metadata": {
    "execution": {
     "iopub.execute_input": "2021-02-21T08:26:16.919147Z",
     "iopub.status.busy": "2021-02-21T08:26:16.918410Z",
     "iopub.status.idle": "2021-02-21T08:26:21.322802Z",
     "shell.execute_reply": "2021-02-21T08:26:21.321875Z"
    },
    "papermill": {
     "duration": 4.446573,
     "end_time": "2021-02-21T08:26:21.323013",
     "exception": false,
     "start_time": "2021-02-21T08:26:16.876440",
     "status": "completed"
    },
    "tags": []
   },
   "outputs": [
    {
     "name": "stdout",
     "output_type": "stream",
     "text": [
      "SGDClassifier model accuracy: 0.7783505154639175\n"
     ]
    },
    {
     "data": {
      "image/png": "[encoded data removed]",
      "text/plain": [
       "<Figure size 864x576 with 2 Axes>"
      ]
     },
     "metadata": {},
     "output_type": "display_data"
    },
    {
     "name": "stdout",
     "output_type": "stream",
     "text": [
      "              precision    recall  f1-score   support\n",
      "\n",
      "    negative       0.81      0.59      0.68       121\n",
      "     neutral       0.81      0.88      0.84       576\n",
      "    positive       0.69      0.66      0.68       273\n",
      "\n",
      "    accuracy                           0.78       970\n",
      "   macro avg       0.77      0.71      0.73       970\n",
      "weighted avg       0.78      0.78      0.77       970\n",
      "\n",
      "Probability estimations and ROC AUC are not available.\n"
     ]
    }
   ],
   "source": [
    "# Create and evaluate SGDClassifier with linear SVM parameters and balanced class weights.\n",
    "sentiment_reader(SGDClassifier(class_weight='balanced', loss='hinge', penalty='l2', tol=None), 'SGDClassifier')"
   ]
  },
  {
   "cell_type": "markdown",
   "metadata": {
    "papermill": {
     "duration": 0.038816,
     "end_time": "2021-02-21T08:26:21.401504",
     "exception": false,
     "start_time": "2021-02-21T08:26:21.362688",
     "status": "completed"
    },
    "tags": []
   },
   "source": [
    "SGDClassifier showed the highest accuracy among the three tested sklearn models, though error rate in the least represented categories is still high. Only about 59% of the actual negative news are correctly classified, which is not nearly enough recall to use for actual investment decisions. In the positive category recall is 0.66 and precision is 0.69, which is also rather mediocre.\n",
    "\n",
    "Experiments with optimizing model parameters through grid search did not resolve this issue. The data is highly imbalanced and most important classes are underrepresented. There is evidence that grid search on imbalanced classes of data does not lead to satisfactory results."
   ]
  },
  {
   "cell_type": "markdown",
   "metadata": {
    "papermill": {
     "duration": 0.038847,
     "end_time": "2021-02-21T08:26:21.479359",
     "exception": false,
     "start_time": "2021-02-21T08:26:21.440512",
     "status": "completed"
    },
    "tags": []
   },
   "source": [
    "### Balancing the classes\n",
    "To resolve the issue with underrepresented classes and improve recall and precision metrics we will try to balance the classes in the dataset. Two approaches are possible:\n",
    "- Make all three classes equally represented in the training and test set.\n",
    "- Reduce the number of samples in the prevailing category to make it proportional to the second most represented group.\n",
    "\n",
    "Testing showed that the first approach leads to higher increase in accuracy scores."
   ]
  },
  {
   "cell_type": "code",
   "execution_count": 23,
   "metadata": {
    "execution": {
     "iopub.execute_input": "2021-02-21T08:26:21.565583Z",
     "iopub.status.busy": "2021-02-21T08:26:21.564558Z",
     "iopub.status.idle": "2021-02-21T08:26:21.569443Z",
     "shell.execute_reply": "2021-02-21T08:26:21.568901Z"
    },
    "papermill": {
     "duration": 0.050945,
     "end_time": "2021-02-21T08:26:21.569680",
     "exception": false,
     "start_time": "2021-02-21T08:26:21.518735",
     "status": "completed"
    },
    "tags": []
   },
   "outputs": [
    {
     "data": {
      "text/plain": [
       "604"
      ]
     },
     "execution_count": 23,
     "metadata": {},
     "output_type": "execute_result"
    }
   ],
   "source": [
    "# Number of samples in the least represented class\n",
    "quota = data['sentiment'].value_counts().min()\n",
    "quota"
   ]
  },
  {
   "cell_type": "code",
   "execution_count": 24,
   "metadata": {
    "execution": {
     "iopub.execute_input": "2021-02-21T08:26:21.658795Z",
     "iopub.status.busy": "2021-02-21T08:26:21.657961Z",
     "iopub.status.idle": "2021-02-21T08:26:21.660725Z",
     "shell.execute_reply": "2021-02-21T08:26:21.661201Z"
    },
    "papermill": {
     "duration": 0.051634,
     "end_time": "2021-02-21T08:26:21.661452",
     "exception": false,
     "start_time": "2021-02-21T08:26:21.609818",
     "status": "completed"
    },
    "tags": []
   },
   "outputs": [],
   "source": [
    "# New DataFrame to add equal number of samples from each class\n",
    "balanced_data = pd.DataFrame(columns=['sentiment', 'text'])"
   ]
  },
  {
   "cell_type": "code",
   "execution_count": 25,
   "metadata": {
    "execution": {
     "iopub.execute_input": "2021-02-21T08:26:21.743952Z",
     "iopub.status.busy": "2021-02-21T08:26:21.743259Z",
     "iopub.status.idle": "2021-02-21T08:26:21.761581Z",
     "shell.execute_reply": "2021-02-21T08:26:21.760975Z"
    },
    "papermill": {
     "duration": 0.060797,
     "end_time": "2021-02-21T08:26:21.761729",
     "exception": false,
     "start_time": "2021-02-21T08:26:21.700932",
     "status": "completed"
    },
    "tags": []
   },
   "outputs": [],
   "source": [
    "# Reduce each group to the chosen number of samples\n",
    "data_groups = data.groupby('sentiment')\n",
    "for group in data_groups.indices:\n",
    "    reduced_class = data_groups.get_group(group)[['sentiment', 'text']].iloc[:quota, :]\n",
    "    balanced_data = balanced_data.append(reduced_class, ignore_index=True)"
   ]
  },
  {
   "cell_type": "code",
   "execution_count": 26,
   "metadata": {
    "execution": {
     "iopub.execute_input": "2021-02-21T08:26:21.852577Z",
     "iopub.status.busy": "2021-02-21T08:26:21.851511Z",
     "iopub.status.idle": "2021-02-21T08:26:21.856268Z",
     "shell.execute_reply": "2021-02-21T08:26:21.855750Z"
    },
    "papermill": {
     "duration": 0.053579,
     "end_time": "2021-02-21T08:26:21.856419",
     "exception": false,
     "start_time": "2021-02-21T08:26:21.802840",
     "status": "completed"
    },
    "tags": []
   },
   "outputs": [
    {
     "data": {
      "text/plain": [
       "negative    604\n",
       "neutral     604\n",
       "positive    604\n",
       "Name: sentiment, dtype: int64"
      ]
     },
     "execution_count": 26,
     "metadata": {},
     "output_type": "execute_result"
    }
   ],
   "source": [
    "# Class distribution in the new dataset\n",
    "balanced_data['sentiment'].value_counts()"
   ]
  },
  {
   "cell_type": "code",
   "execution_count": 27,
   "metadata": {
    "execution": {
     "iopub.execute_input": "2021-02-21T08:26:21.943824Z",
     "iopub.status.busy": "2021-02-21T08:26:21.942992Z",
     "iopub.status.idle": "2021-02-21T08:26:21.946412Z",
     "shell.execute_reply": "2021-02-21T08:26:21.945764Z"
    },
    "papermill": {
     "duration": 0.050031,
     "end_time": "2021-02-21T08:26:21.946584",
     "exception": false,
     "start_time": "2021-02-21T08:26:21.896553",
     "status": "completed"
    },
    "tags": []
   },
   "outputs": [],
   "source": [
    "# Target values\n",
    "y = le.fit_transform(balanced_data['sentiment'])"
   ]
  },
  {
   "cell_type": "code",
   "execution_count": 28,
   "metadata": {
    "execution": {
     "iopub.execute_input": "2021-02-21T08:26:22.033173Z",
     "iopub.status.busy": "2021-02-21T08:26:22.032494Z",
     "iopub.status.idle": "2021-02-21T08:26:22.039993Z",
     "shell.execute_reply": "2021-02-21T08:26:22.039256Z"
    },
    "papermill": {
     "duration": 0.052905,
     "end_time": "2021-02-21T08:26:22.040154",
     "exception": false,
     "start_time": "2021-02-21T08:26:21.987249",
     "status": "completed"
    },
    "tags": []
   },
   "outputs": [],
   "source": [
    "# Training and test samples\n",
    "X_train, X_test, y_train, y_test = train_test_split(balanced_data['text'],\n",
    "                                                    y,\n",
    "                                                    stratify=y,\n",
    "                                                    test_size=0.2,\n",
    "                                                    random_state=1)"
   ]
  },
  {
   "cell_type": "code",
   "execution_count": 29,
   "metadata": {
    "execution": {
     "iopub.execute_input": "2021-02-21T08:26:22.151347Z",
     "iopub.status.busy": "2021-02-21T08:26:22.146052Z",
     "iopub.status.idle": "2021-02-21T08:26:23.839373Z",
     "shell.execute_reply": "2021-02-21T08:26:23.838621Z"
    },
    "papermill": {
     "duration": 1.758577,
     "end_time": "2021-02-21T08:26:23.839598",
     "exception": false,
     "start_time": "2021-02-21T08:26:22.081021",
     "status": "completed"
    },
    "tags": []
   },
   "outputs": [
    {
     "name": "stdout",
     "output_type": "stream",
     "text": [
      "SGDClassifier model accuracy: 0.8264462809917356\n"
     ]
    },
    {
     "data": {
      "image/png": "[encoded data removed]",
      "text/plain": [
       "<Figure size 864x576 with 2 Axes>"
      ]
     },
     "metadata": {},
     "output_type": "display_data"
    },
    {
     "name": "stdout",
     "output_type": "stream",
     "text": [
      "              precision    recall  f1-score   support\n",
      "\n",
      "    negative       0.92      0.81      0.86       121\n",
      "     neutral       0.81      0.79      0.79       121\n",
      "    positive       0.78      0.88      0.83       121\n",
      "\n",
      "    accuracy                           0.83       363\n",
      "   macro avg       0.83      0.83      0.83       363\n",
      "weighted avg       0.83      0.83      0.83       363\n",
      "\n",
      "Probability estimations and ROC AUC are not available.\n"
     ]
    }
   ],
   "source": [
    "# Create and evaluate SGDClassifier model\n",
    "sentiment_reader(SGDClassifier(loss='hinge', penalty='l2', tol=None), 'SGDClassifier')"
   ]
  },
  {
   "cell_type": "markdown",
   "metadata": {
    "papermill": {
     "duration": 0.042123,
     "end_time": "2021-02-21T08:26:23.924778",
     "exception": false,
     "start_time": "2021-02-21T08:26:23.882655",
     "status": "completed"
    },
    "tags": []
   },
   "source": [
    "All the metrics improved considerably:\n",
    "- Recall score for negative and positive categories increased to acceptable levels. However prediction accuracy for the neutral news category slightly decreased compared to the previous trial when we used all the data available for this group.\n",
    "- Precision score increased for the underrepresented groups without negative side effects to the neutral category."
   ]
  },
  {
   "cell_type": "markdown",
   "metadata": {
    "papermill": {
     "duration": 0.041814,
     "end_time": "2021-02-21T08:26:24.010581",
     "exception": false,
     "start_time": "2021-02-21T08:26:23.968767",
     "status": "completed"
    },
    "tags": []
   },
   "source": [
    "Lets check if this model makes sense when we train it on the balanced dataset without withholding a test portion and then evaluate the accuracy on all available samples from the original unreduced dataset."
   ]
  },
  {
   "cell_type": "code",
   "execution_count": 30,
   "metadata": {
    "execution": {
     "iopub.execute_input": "2021-02-21T08:26:24.100260Z",
     "iopub.status.busy": "2021-02-21T08:26:24.099303Z",
     "iopub.status.idle": "2021-02-21T08:26:25.830324Z",
     "shell.execute_reply": "2021-02-21T08:26:25.828983Z"
    },
    "papermill": {
     "duration": 1.777772,
     "end_time": "2021-02-21T08:26:25.830524",
     "exception": false,
     "start_time": "2021-02-21T08:26:24.052752",
     "status": "completed"
    },
    "tags": []
   },
   "outputs": [
    {
     "data": {
      "text/plain": [
       "Pipeline(steps=[('vect', CountVectorizer(max_df=0.8, ngram_range=(1, 3))),\n",
       "                ('tfidf', TfidfTransformer()),\n",
       "                ('clf', SGDClassifier(tol=None))])"
      ]
     },
     "execution_count": 30,
     "metadata": {},
     "output_type": "execute_result"
    }
   ],
   "source": [
    "# Instantiate the model and train it on balanced dataset without withholding test samples.\n",
    "X = balanced_data['text']\n",
    "\n",
    "pipe = Pipeline([\n",
    "        ('vect', CountVectorizer(ngram_range=(1, 3), max_df=0.8)),\n",
    "        ('tfidf', TfidfTransformer()),\n",
    "        ('clf', SGDClassifier(loss='hinge', penalty='l2', tol=None))\n",
    "    ])\n",
    "pipe.fit(X, y)"
   ]
  },
  {
   "cell_type": "code",
   "execution_count": 31,
   "metadata": {
    "execution": {
     "iopub.execute_input": "2021-02-21T08:26:25.938947Z",
     "iopub.status.busy": "2021-02-21T08:26:25.933787Z",
     "iopub.status.idle": "2021-02-21T08:26:26.087066Z",
     "shell.execute_reply": "2021-02-21T08:26:26.087581Z"
    },
    "papermill": {
     "duration": 0.211392,
     "end_time": "2021-02-21T08:26:26.087774",
     "exception": false,
     "start_time": "2021-02-21T08:26:25.876382",
     "status": "completed"
    },
    "tags": []
   },
   "outputs": [
    {
     "data": {
      "text/plain": [
       "0.9988962472406181"
      ]
     },
     "execution_count": 31,
     "metadata": {},
     "output_type": "execute_result"
    }
   ],
   "source": [
    "# Accuracy on this training dataset\n",
    "pipe.score(X, y)"
   ]
  },
  {
   "cell_type": "code",
   "execution_count": 32,
   "metadata": {
    "execution": {
     "iopub.execute_input": "2021-02-21T08:26:26.205333Z",
     "iopub.status.busy": "2021-02-21T08:26:26.189425Z",
     "iopub.status.idle": "2021-02-21T08:26:26.549125Z",
     "shell.execute_reply": "2021-02-21T08:26:26.549628Z"
    },
    "papermill": {
     "duration": 0.418794,
     "end_time": "2021-02-21T08:26:26.549799",
     "exception": false,
     "start_time": "2021-02-21T08:26:26.131005",
     "status": "completed"
    },
    "tags": []
   },
   "outputs": [
    {
     "data": {
      "text/plain": [
       "0.7552620718118036"
      ]
     },
     "execution_count": 32,
     "metadata": {},
     "output_type": "execute_result"
    }
   ],
   "source": [
    "# Make a prediction on the unreduced original dataset\n",
    "unreduced_X = data['text']\n",
    "unreduced_y = le.transform(data['sentiment'])\n",
    "pipe.score(unreduced_X, unreduced_y)"
   ]
  },
  {
   "cell_type": "code",
   "execution_count": 33,
   "metadata": {
    "execution": {
     "iopub.execute_input": "2021-02-21T08:26:26.655895Z",
     "iopub.status.busy": "2021-02-21T08:26:26.650376Z",
     "iopub.status.idle": "2021-02-21T08:26:27.333934Z",
     "shell.execute_reply": "2021-02-21T08:26:27.333243Z"
    },
    "papermill": {
     "duration": 0.740778,
     "end_time": "2021-02-21T08:26:27.334085",
     "exception": false,
     "start_time": "2021-02-21T08:26:26.593307",
     "status": "completed"
    },
    "tags": []
   },
   "outputs": [
    {
     "data": {
      "image/png": "[encoded data removed]",
      "text/plain": [
       "<Figure size 864x576 with 2 Axes>"
      ]
     },
     "metadata": {},
     "output_type": "display_data"
    }
   ],
   "source": [
    "# Confusion matrix\n",
    "predicted_y = pipe.predict(unreduced_X)\n",
    "conf_matrix = confusion_matrix(unreduced_y, predicted_y)\n",
    "\n",
    "classes_names = le.classes_\n",
    "columns = ['pred_' + name for name in classes_names]\n",
    "indexes = ['actual_' + name for name in classes_names]\n",
    "conf_matrix = pd.DataFrame(conf_matrix, columns=columns, index=indexes)\n",
    "\n",
    "classification_heatmap(conf_matrix)"
   ]
  },
  {
   "cell_type": "markdown",
   "metadata": {
    "papermill": {
     "duration": 0.044802,
     "end_time": "2021-02-21T08:26:27.424189",
     "exception": false,
     "start_time": "2021-02-21T08:26:27.379387",
     "status": "completed"
    },
    "tags": []
   },
   "source": [
    "If we compare this confusion matrix with the case, when we trained the model on unbalanced dataset and checked the accuracy on the test data, there is obvious improvement. The model learned to differentiate negative news from other news categories with high degree of accuracy. However, we should remember that in this training the model saw all available negative samples. It's still unclear if this recall score will be the same in testing on any new samples.\n",
    "\n",
    "Confusion between positive and neutral news is still visible on the chart. The model did not see all positive news samples during the training process, which confirmes that this approach only partially solves the issue with imbalanced classes.\n",
    "\n",
    "We can conclude that the best approach to solve this classification problem would be to increase the dataset and find additional text samples to add to the negative and positive sentiment categories. All categories should be more or less equally represented. Imbalances in the original data prevent the models from correctly learning distinctive features for sentiment categories. Dropping samples from overrepresented groups inreases accuracy scores but potentially harms the training process because we limit the available training set."
   ]
  },
  {
   "cell_type": "code",
   "execution_count": 34,
   "metadata": {
    "execution": {
     "iopub.execute_input": "2021-02-21T08:26:27.520738Z",
     "iopub.status.busy": "2021-02-21T08:26:27.520067Z",
     "iopub.status.idle": "2021-02-21T08:26:27.526324Z",
     "shell.execute_reply": "2021-02-21T08:26:27.526852Z"
    },
    "papermill": {
     "duration": 0.057729,
     "end_time": "2021-02-21T08:26:27.527035",
     "exception": false,
     "start_time": "2021-02-21T08:26:27.469306",
     "status": "completed"
    },
    "tags": []
   },
   "outputs": [
    {
     "name": "stdout",
     "output_type": "stream",
     "text": [
      "positive\n",
      "negative\n"
     ]
    }
   ],
   "source": [
    "# Try to get a prediction for out of sample headlines with obvious sentiment.\n",
    "new_samples = ['Experts expect the world economy to grow at a steady rate of 3% a year.',\n",
    "               'Local retailers reported much lower revenues this year. Expansion plans are suspended.']\n",
    "prediction = pipe.predict(new_samples)\n",
    "for pred in prediction:\n",
    "    print(le.classes_[pred])"
   ]
  }
 ],
 "metadata": {
  "kernelspec": {
   "display_name": "Python 3",
   "language": "python",
   "name": "python3"
  },
  "language_info": {
   "codemirror_mode": {
    "name": "ipython",
    "version": 3
   },
   "file_extension": ".py",
   "mimetype": "text/x-python",
   "name": "python",
   "nbconvert_exporter": "python",
   "pygments_lexer": "ipython3",
   "version": "3.7.4"
  },
  "papermill": {
   "default_parameters": {},
   "duration": 32.241195,
   "end_time": "2021-02-21T08:26:28.283087",
   "environment_variables": {},
   "exception": null,
   "input_path": "__notebook__.ipynb",
   "output_path": "__notebook__.ipynb",
   "parameters": {},
   "start_time": "2021-02-21T08:25:56.041892",
   "version": "2.2.2"
  }
 },
 "nbformat": 4,
 "nbformat_minor": 4
}
