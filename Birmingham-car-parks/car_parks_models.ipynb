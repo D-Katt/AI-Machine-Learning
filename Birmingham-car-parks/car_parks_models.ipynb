{
 "cells": [
  {
   "cell_type": "code",
   "execution_count": 1,
   "metadata": {},
   "outputs": [],
   "source": [
    "import pandas as pd"
   ]
  },
  {
   "cell_type": "code",
   "execution_count": 2,
   "metadata": {},
   "outputs": [],
   "source": [
    "from sklearn.preprocessing import StandardScaler, OneHotEncoder\n",
    "from sklearn.compose import make_column_transformer\n",
    "from sklearn.model_selection import KFold, cross_val_score\n",
    "from sklearn.tree import DecisionTreeRegressor\n",
    "from sklearn.ensemble import GradientBoostingRegressor, RandomForestRegressor"
   ]
  },
  {
   "cell_type": "code",
   "execution_count": 3,
   "metadata": {},
   "outputs": [],
   "source": [
    "import seaborn as sns"
   ]
  },
  {
   "cell_type": "code",
   "execution_count": 4,
   "metadata": {},
   "outputs": [],
   "source": [
    "import matplotlib.pyplot as plt\n",
    "%matplotlib inline"
   ]
  },
  {
   "cell_type": "code",
   "execution_count": 5,
   "metadata": {},
   "outputs": [],
   "source": [
    "from pandas.plotting import register_matplotlib_converters\n",
    "register_matplotlib_converters()"
   ]
  },
  {
   "cell_type": "code",
   "execution_count": 6,
   "metadata": {},
   "outputs": [],
   "source": [
    "# Параметры отображения графиков:\n",
    "plt.style.use('seaborn-whitegrid')\n",
    "plt.rcParams['figure.figsize'] = 12, 8\n",
    "plt.rcParams.update({'font.size': 11})"
   ]
  },
  {
   "cell_type": "markdown",
   "metadata": {},
   "source": [
    "# Загрузка и предварительная обработка данных"
   ]
  },
  {
   "cell_type": "markdown",
   "metadata": {},
   "source": [
    "Источник данных: https://archive.ics.uci.edu/ml/datasets/Parking+Birmingham"
   ]
  },
  {
   "cell_type": "code",
   "execution_count": 7,
   "metadata": {},
   "outputs": [],
   "source": [
    "file_name = 'Birmingham_car_parks.csv'"
   ]
  },
  {
   "cell_type": "code",
   "execution_count": 8,
   "metadata": {},
   "outputs": [],
   "source": [
    "data = pd.read_csv(file_name, parse_dates=['LastUpdated'])"
   ]
  },
  {
   "cell_type": "code",
   "execution_count": 9,
   "metadata": {},
   "outputs": [
    {
     "data": {
      "text/html": [
       "<div>\n",
       "<style scoped>\n",
       "    .dataframe tbody tr th:only-of-type {\n",
       "        vertical-align: middle;\n",
       "    }\n",
       "\n",
       "    .dataframe tbody tr th {\n",
       "        vertical-align: top;\n",
       "    }\n",
       "\n",
       "    .dataframe thead th {\n",
       "        text-align: right;\n",
       "    }\n",
       "</style>\n",
       "<table border=\"1\" class=\"dataframe\">\n",
       "  <thead>\n",
       "    <tr style=\"text-align: right;\">\n",
       "      <th></th>\n",
       "      <th>SystemCodeNumber</th>\n",
       "      <th>Capacity</th>\n",
       "      <th>Occupancy</th>\n",
       "      <th>LastUpdated</th>\n",
       "    </tr>\n",
       "  </thead>\n",
       "  <tbody>\n",
       "    <tr>\n",
       "      <td>0</td>\n",
       "      <td>BHMBCCMKT01</td>\n",
       "      <td>577</td>\n",
       "      <td>61</td>\n",
       "      <td>2016-10-04 07:59:42</td>\n",
       "    </tr>\n",
       "    <tr>\n",
       "      <td>1</td>\n",
       "      <td>BHMBCCMKT01</td>\n",
       "      <td>577</td>\n",
       "      <td>64</td>\n",
       "      <td>2016-10-04 08:25:42</td>\n",
       "    </tr>\n",
       "    <tr>\n",
       "      <td>2</td>\n",
       "      <td>BHMBCCMKT01</td>\n",
       "      <td>577</td>\n",
       "      <td>80</td>\n",
       "      <td>2016-10-04 08:59:42</td>\n",
       "    </tr>\n",
       "    <tr>\n",
       "      <td>3</td>\n",
       "      <td>BHMBCCMKT01</td>\n",
       "      <td>577</td>\n",
       "      <td>107</td>\n",
       "      <td>2016-10-04 09:32:46</td>\n",
       "    </tr>\n",
       "    <tr>\n",
       "      <td>4</td>\n",
       "      <td>BHMBCCMKT01</td>\n",
       "      <td>577</td>\n",
       "      <td>150</td>\n",
       "      <td>2016-10-04 09:59:48</td>\n",
       "    </tr>\n",
       "  </tbody>\n",
       "</table>\n",
       "</div>"
      ],
      "text/plain": [
       "  SystemCodeNumber  Capacity  Occupancy         LastUpdated\n",
       "0      BHMBCCMKT01       577         61 2016-10-04 07:59:42\n",
       "1      BHMBCCMKT01       577         64 2016-10-04 08:25:42\n",
       "2      BHMBCCMKT01       577         80 2016-10-04 08:59:42\n",
       "3      BHMBCCMKT01       577        107 2016-10-04 09:32:46\n",
       "4      BHMBCCMKT01       577        150 2016-10-04 09:59:48"
      ]
     },
     "execution_count": 9,
     "metadata": {},
     "output_type": "execute_result"
    }
   ],
   "source": [
    "data.head()"
   ]
  },
  {
   "cell_type": "code",
   "execution_count": 10,
   "metadata": {},
   "outputs": [
    {
     "data": {
      "text/plain": [
       "(35717, 4)"
      ]
     },
     "execution_count": 10,
     "metadata": {},
     "output_type": "execute_result"
    }
   ],
   "source": [
    "data.shape"
   ]
  },
  {
   "cell_type": "code",
   "execution_count": 11,
   "metadata": {},
   "outputs": [
    {
     "data": {
      "text/plain": [
       "SystemCodeNumber            object\n",
       "Capacity                     int64\n",
       "Occupancy                    int64\n",
       "LastUpdated         datetime64[ns]\n",
       "dtype: object"
      ]
     },
     "execution_count": 11,
     "metadata": {},
     "output_type": "execute_result"
    }
   ],
   "source": [
    "data.dtypes"
   ]
  },
  {
   "cell_type": "code",
   "execution_count": 12,
   "metadata": {},
   "outputs": [
    {
     "data": {
      "text/plain": [
       "SystemCodeNumber    0\n",
       "Capacity            0\n",
       "Occupancy           0\n",
       "LastUpdated         0\n",
       "dtype: int64"
      ]
     },
     "execution_count": 12,
     "metadata": {},
     "output_type": "execute_result"
    }
   ],
   "source": [
    "data.isna().sum()"
   ]
  },
  {
   "cell_type": "code",
   "execution_count": 13,
   "metadata": {},
   "outputs": [
    {
     "data": {
      "text/plain": [
       "30"
      ]
     },
     "execution_count": 13,
     "metadata": {},
     "output_type": "execute_result"
    }
   ],
   "source": [
    "# Количество парковок с разными ID:\n",
    "len(data.SystemCodeNumber.unique())"
   ]
  },
  {
   "cell_type": "code",
   "execution_count": 14,
   "metadata": {},
   "outputs": [
    {
     "data": {
      "text/html": [
       "<div>\n",
       "<style scoped>\n",
       "    .dataframe tbody tr th:only-of-type {\n",
       "        vertical-align: middle;\n",
       "    }\n",
       "\n",
       "    .dataframe tbody tr th {\n",
       "        vertical-align: top;\n",
       "    }\n",
       "\n",
       "    .dataframe thead th {\n",
       "        text-align: right;\n",
       "    }\n",
       "</style>\n",
       "<table border=\"1\" class=\"dataframe\">\n",
       "  <thead>\n",
       "    <tr style=\"text-align: right;\">\n",
       "      <th></th>\n",
       "      <th>Capacity</th>\n",
       "      <th>Occupancy</th>\n",
       "    </tr>\n",
       "  </thead>\n",
       "  <tbody>\n",
       "    <tr>\n",
       "      <td>count</td>\n",
       "      <td>35717.000000</td>\n",
       "      <td>35717.000000</td>\n",
       "    </tr>\n",
       "    <tr>\n",
       "      <td>mean</td>\n",
       "      <td>1397.550130</td>\n",
       "      <td>642.228911</td>\n",
       "    </tr>\n",
       "    <tr>\n",
       "      <td>std</td>\n",
       "      <td>1179.326833</td>\n",
       "      <td>656.955535</td>\n",
       "    </tr>\n",
       "    <tr>\n",
       "      <td>min</td>\n",
       "      <td>220.000000</td>\n",
       "      <td>-8.000000</td>\n",
       "    </tr>\n",
       "    <tr>\n",
       "      <td>25%</td>\n",
       "      <td>500.000000</td>\n",
       "      <td>210.000000</td>\n",
       "    </tr>\n",
       "    <tr>\n",
       "      <td>50%</td>\n",
       "      <td>849.000000</td>\n",
       "      <td>446.000000</td>\n",
       "    </tr>\n",
       "    <tr>\n",
       "      <td>75%</td>\n",
       "      <td>2009.000000</td>\n",
       "      <td>798.000000</td>\n",
       "    </tr>\n",
       "    <tr>\n",
       "      <td>max</td>\n",
       "      <td>4675.000000</td>\n",
       "      <td>4327.000000</td>\n",
       "    </tr>\n",
       "  </tbody>\n",
       "</table>\n",
       "</div>"
      ],
      "text/plain": [
       "           Capacity     Occupancy\n",
       "count  35717.000000  35717.000000\n",
       "mean    1397.550130    642.228911\n",
       "std     1179.326833    656.955535\n",
       "min      220.000000     -8.000000\n",
       "25%      500.000000    210.000000\n",
       "50%      849.000000    446.000000\n",
       "75%     2009.000000    798.000000\n",
       "max     4675.000000   4327.000000"
      ]
     },
     "execution_count": 14,
     "metadata": {},
     "output_type": "execute_result"
    }
   ],
   "source": [
    "data.describe()"
   ]
  },
  {
   "cell_type": "code",
   "execution_count": 15,
   "metadata": {},
   "outputs": [],
   "source": [
    "# Месяц:\n",
    "data['Month'] = data.LastUpdated.dt.month"
   ]
  },
  {
   "cell_type": "code",
   "execution_count": 16,
   "metadata": {},
   "outputs": [],
   "source": [
    "# Время суток:\n",
    "data['Hour'] = data.LastUpdated.dt.hour"
   ]
  },
  {
   "cell_type": "code",
   "execution_count": 17,
   "metadata": {},
   "outputs": [],
   "source": [
    "# Заполняемость парковки в процентах от общей вместимости:\n",
    "data['Occupancy_pc'] = data.Occupancy / data.Capacity"
   ]
  },
  {
   "cell_type": "code",
   "execution_count": 18,
   "metadata": {},
   "outputs": [
    {
     "data": {
      "text/html": [
       "<div>\n",
       "<style scoped>\n",
       "    .dataframe tbody tr th:only-of-type {\n",
       "        vertical-align: middle;\n",
       "    }\n",
       "\n",
       "    .dataframe tbody tr th {\n",
       "        vertical-align: top;\n",
       "    }\n",
       "\n",
       "    .dataframe thead th {\n",
       "        text-align: right;\n",
       "    }\n",
       "</style>\n",
       "<table border=\"1\" class=\"dataframe\">\n",
       "  <thead>\n",
       "    <tr style=\"text-align: right;\">\n",
       "      <th></th>\n",
       "      <th>SystemCodeNumber</th>\n",
       "      <th>Capacity</th>\n",
       "      <th>Occupancy</th>\n",
       "      <th>LastUpdated</th>\n",
       "      <th>Month</th>\n",
       "      <th>Hour</th>\n",
       "      <th>Occupancy_pc</th>\n",
       "    </tr>\n",
       "  </thead>\n",
       "  <tbody>\n",
       "    <tr>\n",
       "      <td>0</td>\n",
       "      <td>BHMBCCMKT01</td>\n",
       "      <td>577</td>\n",
       "      <td>61</td>\n",
       "      <td>2016-10-04 07:59:42</td>\n",
       "      <td>10</td>\n",
       "      <td>7</td>\n",
       "      <td>0.105719</td>\n",
       "    </tr>\n",
       "    <tr>\n",
       "      <td>1</td>\n",
       "      <td>BHMBCCMKT01</td>\n",
       "      <td>577</td>\n",
       "      <td>64</td>\n",
       "      <td>2016-10-04 08:25:42</td>\n",
       "      <td>10</td>\n",
       "      <td>8</td>\n",
       "      <td>0.110919</td>\n",
       "    </tr>\n",
       "    <tr>\n",
       "      <td>2</td>\n",
       "      <td>BHMBCCMKT01</td>\n",
       "      <td>577</td>\n",
       "      <td>80</td>\n",
       "      <td>2016-10-04 08:59:42</td>\n",
       "      <td>10</td>\n",
       "      <td>8</td>\n",
       "      <td>0.138648</td>\n",
       "    </tr>\n",
       "    <tr>\n",
       "      <td>3</td>\n",
       "      <td>BHMBCCMKT01</td>\n",
       "      <td>577</td>\n",
       "      <td>107</td>\n",
       "      <td>2016-10-04 09:32:46</td>\n",
       "      <td>10</td>\n",
       "      <td>9</td>\n",
       "      <td>0.185442</td>\n",
       "    </tr>\n",
       "    <tr>\n",
       "      <td>4</td>\n",
       "      <td>BHMBCCMKT01</td>\n",
       "      <td>577</td>\n",
       "      <td>150</td>\n",
       "      <td>2016-10-04 09:59:48</td>\n",
       "      <td>10</td>\n",
       "      <td>9</td>\n",
       "      <td>0.259965</td>\n",
       "    </tr>\n",
       "  </tbody>\n",
       "</table>\n",
       "</div>"
      ],
      "text/plain": [
       "  SystemCodeNumber  Capacity  Occupancy         LastUpdated  Month  Hour  \\\n",
       "0      BHMBCCMKT01       577         61 2016-10-04 07:59:42     10     7   \n",
       "1      BHMBCCMKT01       577         64 2016-10-04 08:25:42     10     8   \n",
       "2      BHMBCCMKT01       577         80 2016-10-04 08:59:42     10     8   \n",
       "3      BHMBCCMKT01       577        107 2016-10-04 09:32:46     10     9   \n",
       "4      BHMBCCMKT01       577        150 2016-10-04 09:59:48     10     9   \n",
       "\n",
       "   Occupancy_pc  \n",
       "0      0.105719  \n",
       "1      0.110919  \n",
       "2      0.138648  \n",
       "3      0.185442  \n",
       "4      0.259965  "
      ]
     },
     "execution_count": 18,
     "metadata": {},
     "output_type": "execute_result"
    }
   ],
   "source": [
    "data.head()"
   ]
  },
  {
   "cell_type": "code",
   "execution_count": 19,
   "metadata": {},
   "outputs": [
    {
     "data": {
      "text/html": [
       "<div>\n",
       "<style scoped>\n",
       "    .dataframe tbody tr th:only-of-type {\n",
       "        vertical-align: middle;\n",
       "    }\n",
       "\n",
       "    .dataframe tbody tr th {\n",
       "        vertical-align: top;\n",
       "    }\n",
       "\n",
       "    .dataframe thead th {\n",
       "        text-align: right;\n",
       "    }\n",
       "</style>\n",
       "<table border=\"1\" class=\"dataframe\">\n",
       "  <thead>\n",
       "    <tr style=\"text-align: right;\">\n",
       "      <th></th>\n",
       "      <th>SystemCodeNumber</th>\n",
       "      <th>Capacity</th>\n",
       "      <th>Occupancy</th>\n",
       "      <th>LastUpdated</th>\n",
       "      <th>Month</th>\n",
       "      <th>Hour</th>\n",
       "      <th>Occupancy_pc</th>\n",
       "    </tr>\n",
       "  </thead>\n",
       "  <tbody>\n",
       "    <tr>\n",
       "      <td>1396</td>\n",
       "      <td>BHMBCCPST01</td>\n",
       "      <td>317</td>\n",
       "      <td>320</td>\n",
       "      <td>2016-10-08 14:03:38</td>\n",
       "      <td>10</td>\n",
       "      <td>14</td>\n",
       "      <td>1.009464</td>\n",
       "    </tr>\n",
       "    <tr>\n",
       "      <td>1613</td>\n",
       "      <td>BHMBCCPST01</td>\n",
       "      <td>317</td>\n",
       "      <td>318</td>\n",
       "      <td>2016-10-22 14:39:47</td>\n",
       "      <td>10</td>\n",
       "      <td>14</td>\n",
       "      <td>1.003155</td>\n",
       "    </tr>\n",
       "    <tr>\n",
       "      <td>3548</td>\n",
       "      <td>BHMBCCSNH01</td>\n",
       "      <td>863</td>\n",
       "      <td>865</td>\n",
       "      <td>2016-11-28 11:01:30</td>\n",
       "      <td>11</td>\n",
       "      <td>11</td>\n",
       "      <td>1.002317</td>\n",
       "    </tr>\n",
       "    <tr>\n",
       "      <td>3549</td>\n",
       "      <td>BHMBCCSNH01</td>\n",
       "      <td>863</td>\n",
       "      <td>866</td>\n",
       "      <td>2016-11-28 11:32:28</td>\n",
       "      <td>11</td>\n",
       "      <td>11</td>\n",
       "      <td>1.003476</td>\n",
       "    </tr>\n",
       "    <tr>\n",
       "      <td>3583</td>\n",
       "      <td>BHMBCCSNH01</td>\n",
       "      <td>863</td>\n",
       "      <td>864</td>\n",
       "      <td>2016-11-30 10:28:38</td>\n",
       "      <td>11</td>\n",
       "      <td>10</td>\n",
       "      <td>1.001159</td>\n",
       "    </tr>\n",
       "    <tr>\n",
       "      <td>...</td>\n",
       "      <td>...</td>\n",
       "      <td>...</td>\n",
       "      <td>...</td>\n",
       "      <td>...</td>\n",
       "      <td>...</td>\n",
       "      <td>...</td>\n",
       "      <td>...</td>\n",
       "    </tr>\n",
       "    <tr>\n",
       "      <td>7542</td>\n",
       "      <td>BHMBRCBRG02</td>\n",
       "      <td>1194</td>\n",
       "      <td>1198</td>\n",
       "      <td>2016-12-18 14:03:26</td>\n",
       "      <td>12</td>\n",
       "      <td>14</td>\n",
       "      <td>1.003350</td>\n",
       "    </tr>\n",
       "    <tr>\n",
       "      <td>12732</td>\n",
       "      <td>BHMMBMMBX01</td>\n",
       "      <td>687</td>\n",
       "      <td>688</td>\n",
       "      <td>2016-12-19 13:03:30</td>\n",
       "      <td>12</td>\n",
       "      <td>13</td>\n",
       "      <td>1.001456</td>\n",
       "    </tr>\n",
       "    <tr>\n",
       "      <td>14796</td>\n",
       "      <td>BHMNCPLDH01</td>\n",
       "      <td>720</td>\n",
       "      <td>723</td>\n",
       "      <td>2016-11-16 11:00:51</td>\n",
       "      <td>11</td>\n",
       "      <td>11</td>\n",
       "      <td>1.004167</td>\n",
       "    </tr>\n",
       "    <tr>\n",
       "      <td>15350</td>\n",
       "      <td>BHMNCPNHS01</td>\n",
       "      <td>500</td>\n",
       "      <td>501</td>\n",
       "      <td>2016-10-04 10:26:49</td>\n",
       "      <td>10</td>\n",
       "      <td>10</td>\n",
       "      <td>1.002000</td>\n",
       "    </tr>\n",
       "    <tr>\n",
       "      <td>15768</td>\n",
       "      <td>BHMNCPNHS01</td>\n",
       "      <td>500</td>\n",
       "      <td>503</td>\n",
       "      <td>2016-11-08 13:00:00</td>\n",
       "      <td>11</td>\n",
       "      <td>13</td>\n",
       "      <td>1.006000</td>\n",
       "    </tr>\n",
       "  </tbody>\n",
       "</table>\n",
       "<p>373 rows × 7 columns</p>\n",
       "</div>"
      ],
      "text/plain": [
       "      SystemCodeNumber  Capacity  Occupancy         LastUpdated  Month  Hour  \\\n",
       "1396       BHMBCCPST01       317        320 2016-10-08 14:03:38     10    14   \n",
       "1613       BHMBCCPST01       317        318 2016-10-22 14:39:47     10    14   \n",
       "3548       BHMBCCSNH01       863        865 2016-11-28 11:01:30     11    11   \n",
       "3549       BHMBCCSNH01       863        866 2016-11-28 11:32:28     11    11   \n",
       "3583       BHMBCCSNH01       863        864 2016-11-30 10:28:38     11    10   \n",
       "...                ...       ...        ...                 ...    ...   ...   \n",
       "7542       BHMBRCBRG02      1194       1198 2016-12-18 14:03:26     12    14   \n",
       "12732      BHMMBMMBX01       687        688 2016-12-19 13:03:30     12    13   \n",
       "14796      BHMNCPLDH01       720        723 2016-11-16 11:00:51     11    11   \n",
       "15350      BHMNCPNHS01       500        501 2016-10-04 10:26:49     10    10   \n",
       "15768      BHMNCPNHS01       500        503 2016-11-08 13:00:00     11    13   \n",
       "\n",
       "       Occupancy_pc  \n",
       "1396       1.009464  \n",
       "1613       1.003155  \n",
       "3548       1.002317  \n",
       "3549       1.003476  \n",
       "3583       1.001159  \n",
       "...             ...  \n",
       "7542       1.003350  \n",
       "12732      1.001456  \n",
       "14796      1.004167  \n",
       "15350      1.002000  \n",
       "15768      1.006000  \n",
       "\n",
       "[373 rows x 7 columns]"
      ]
     },
     "execution_count": 19,
     "metadata": {},
     "output_type": "execute_result"
    }
   ],
   "source": [
    "# В некоторых случаях фактическое количество машин незначительно превышает вместимость:\n",
    "data[data.Occupancy_pc > 1]"
   ]
  },
  {
   "cell_type": "code",
   "execution_count": 20,
   "metadata": {},
   "outputs": [
    {
     "data": {
      "text/html": [
       "<div>\n",
       "<style scoped>\n",
       "    .dataframe tbody tr th:only-of-type {\n",
       "        vertical-align: middle;\n",
       "    }\n",
       "\n",
       "    .dataframe tbody tr th {\n",
       "        vertical-align: top;\n",
       "    }\n",
       "\n",
       "    .dataframe thead th {\n",
       "        text-align: right;\n",
       "    }\n",
       "</style>\n",
       "<table border=\"1\" class=\"dataframe\">\n",
       "  <thead>\n",
       "    <tr style=\"text-align: right;\">\n",
       "      <th></th>\n",
       "      <th>SystemCodeNumber</th>\n",
       "      <th>Capacity</th>\n",
       "      <th>Occupancy</th>\n",
       "      <th>LastUpdated</th>\n",
       "      <th>Month</th>\n",
       "      <th>Hour</th>\n",
       "      <th>Occupancy_pc</th>\n",
       "    </tr>\n",
       "  </thead>\n",
       "  <tbody>\n",
       "    <tr>\n",
       "      <td>23889</td>\n",
       "      <td>NIA North</td>\n",
       "      <td>480</td>\n",
       "      <td>-3</td>\n",
       "      <td>2016-10-16 15:57:16</td>\n",
       "      <td>10</td>\n",
       "      <td>15</td>\n",
       "      <td>-0.006250</td>\n",
       "    </tr>\n",
       "    <tr>\n",
       "      <td>23890</td>\n",
       "      <td>NIA North</td>\n",
       "      <td>480</td>\n",
       "      <td>-3</td>\n",
       "      <td>2016-10-16 16:31:17</td>\n",
       "      <td>10</td>\n",
       "      <td>16</td>\n",
       "      <td>-0.006250</td>\n",
       "    </tr>\n",
       "    <tr>\n",
       "      <td>23906</td>\n",
       "      <td>NIA North</td>\n",
       "      <td>480</td>\n",
       "      <td>-1</td>\n",
       "      <td>2016-10-18 15:27:59</td>\n",
       "      <td>10</td>\n",
       "      <td>15</td>\n",
       "      <td>-0.002083</td>\n",
       "    </tr>\n",
       "    <tr>\n",
       "      <td>23919</td>\n",
       "      <td>NIA North</td>\n",
       "      <td>480</td>\n",
       "      <td>-8</td>\n",
       "      <td>2016-10-28 13:02:43</td>\n",
       "      <td>10</td>\n",
       "      <td>13</td>\n",
       "      <td>-0.016667</td>\n",
       "    </tr>\n",
       "    <tr>\n",
       "      <td>23924</td>\n",
       "      <td>NIA North</td>\n",
       "      <td>480</td>\n",
       "      <td>-1</td>\n",
       "      <td>2016-10-28 15:29:41</td>\n",
       "      <td>10</td>\n",
       "      <td>15</td>\n",
       "      <td>-0.002083</td>\n",
       "    </tr>\n",
       "    <tr>\n",
       "      <td>23925</td>\n",
       "      <td>NIA North</td>\n",
       "      <td>480</td>\n",
       "      <td>-4</td>\n",
       "      <td>2016-10-28 16:02:40</td>\n",
       "      <td>10</td>\n",
       "      <td>16</td>\n",
       "      <td>-0.008333</td>\n",
       "    </tr>\n",
       "    <tr>\n",
       "      <td>23926</td>\n",
       "      <td>NIA North</td>\n",
       "      <td>480</td>\n",
       "      <td>-1</td>\n",
       "      <td>2016-10-28 16:29:42</td>\n",
       "      <td>10</td>\n",
       "      <td>16</td>\n",
       "      <td>-0.002083</td>\n",
       "    </tr>\n",
       "    <tr>\n",
       "      <td>23937</td>\n",
       "      <td>NIA North</td>\n",
       "      <td>480</td>\n",
       "      <td>-2</td>\n",
       "      <td>2016-10-29 12:59:51</td>\n",
       "      <td>10</td>\n",
       "      <td>12</td>\n",
       "      <td>-0.004167</td>\n",
       "    </tr>\n",
       "    <tr>\n",
       "      <td>23944</td>\n",
       "      <td>NIA North</td>\n",
       "      <td>480</td>\n",
       "      <td>-1</td>\n",
       "      <td>2016-10-29 16:26:53</td>\n",
       "      <td>10</td>\n",
       "      <td>16</td>\n",
       "      <td>-0.002083</td>\n",
       "    </tr>\n",
       "    <tr>\n",
       "      <td>23997</td>\n",
       "      <td>NIA North</td>\n",
       "      <td>480</td>\n",
       "      <td>-3</td>\n",
       "      <td>2016-11-10 16:00:15</td>\n",
       "      <td>11</td>\n",
       "      <td>16</td>\n",
       "      <td>-0.006250</td>\n",
       "    </tr>\n",
       "    <tr>\n",
       "      <td>24032</td>\n",
       "      <td>NIA North</td>\n",
       "      <td>480</td>\n",
       "      <td>-1</td>\n",
       "      <td>2016-11-30 15:28:40</td>\n",
       "      <td>11</td>\n",
       "      <td>15</td>\n",
       "      <td>-0.002083</td>\n",
       "    </tr>\n",
       "    <tr>\n",
       "      <td>24033</td>\n",
       "      <td>NIA North</td>\n",
       "      <td>480</td>\n",
       "      <td>-2</td>\n",
       "      <td>2016-11-30 16:01:39</td>\n",
       "      <td>11</td>\n",
       "      <td>16</td>\n",
       "      <td>-0.004167</td>\n",
       "    </tr>\n",
       "  </tbody>\n",
       "</table>\n",
       "</div>"
      ],
      "text/plain": [
       "      SystemCodeNumber  Capacity  Occupancy         LastUpdated  Month  Hour  \\\n",
       "23889        NIA North       480         -3 2016-10-16 15:57:16     10    15   \n",
       "23890        NIA North       480         -3 2016-10-16 16:31:17     10    16   \n",
       "23906        NIA North       480         -1 2016-10-18 15:27:59     10    15   \n",
       "23919        NIA North       480         -8 2016-10-28 13:02:43     10    13   \n",
       "23924        NIA North       480         -1 2016-10-28 15:29:41     10    15   \n",
       "23925        NIA North       480         -4 2016-10-28 16:02:40     10    16   \n",
       "23926        NIA North       480         -1 2016-10-28 16:29:42     10    16   \n",
       "23937        NIA North       480         -2 2016-10-29 12:59:51     10    12   \n",
       "23944        NIA North       480         -1 2016-10-29 16:26:53     10    16   \n",
       "23997        NIA North       480         -3 2016-11-10 16:00:15     11    16   \n",
       "24032        NIA North       480         -1 2016-11-30 15:28:40     11    15   \n",
       "24033        NIA North       480         -2 2016-11-30 16:01:39     11    16   \n",
       "\n",
       "       Occupancy_pc  \n",
       "23889     -0.006250  \n",
       "23890     -0.006250  \n",
       "23906     -0.002083  \n",
       "23919     -0.016667  \n",
       "23924     -0.002083  \n",
       "23925     -0.008333  \n",
       "23926     -0.002083  \n",
       "23937     -0.004167  \n",
       "23944     -0.002083  \n",
       "23997     -0.006250  \n",
       "24032     -0.002083  \n",
       "24033     -0.004167  "
      ]
     },
     "execution_count": 20,
     "metadata": {},
     "output_type": "execute_result"
    }
   ],
   "source": [
    "# В некоторых строках заполняемость отрицательная:\n",
    "data[data.Occupancy < 0]"
   ]
  },
  {
   "cell_type": "code",
   "execution_count": 21,
   "metadata": {},
   "outputs": [],
   "source": [
    "def occupancy_corrector(rate: float) -> float:\n",
    "    \"\"\"Функция исправляет технические ошибки в уровне\n",
    "    заполняемости парковки, отрицательные значения\n",
    "    заменяет на 0, значения > 1 заменяет на 1.\"\"\"\n",
    "    if rate < 0:\n",
    "        rate = 0\n",
    "    elif rate > 1:\n",
    "        rate = 1\n",
    "    return rate"
   ]
  },
  {
   "cell_type": "code",
   "execution_count": 22,
   "metadata": {},
   "outputs": [],
   "source": [
    "# Исправляем технические ошибки в данных:\n",
    "data.Occupancy_pc = data.Occupancy_pc.apply(occupancy_corrector)"
   ]
  },
  {
   "cell_type": "code",
   "execution_count": 23,
   "metadata": {},
   "outputs": [
    {
     "data": {
      "text/html": [
       "<div>\n",
       "<style scoped>\n",
       "    .dataframe tbody tr th:only-of-type {\n",
       "        vertical-align: middle;\n",
       "    }\n",
       "\n",
       "    .dataframe tbody tr th {\n",
       "        vertical-align: top;\n",
       "    }\n",
       "\n",
       "    .dataframe thead th {\n",
       "        text-align: right;\n",
       "    }\n",
       "</style>\n",
       "<table border=\"1\" class=\"dataframe\">\n",
       "  <thead>\n",
       "    <tr style=\"text-align: right;\">\n",
       "      <th></th>\n",
       "      <th>Capacity</th>\n",
       "      <th>Occupancy</th>\n",
       "      <th>Month</th>\n",
       "      <th>Hour</th>\n",
       "      <th>Occupancy_pc</th>\n",
       "    </tr>\n",
       "  </thead>\n",
       "  <tbody>\n",
       "    <tr>\n",
       "      <td>count</td>\n",
       "      <td>35717.000000</td>\n",
       "      <td>35717.000000</td>\n",
       "      <td>35717.000000</td>\n",
       "      <td>35717.000000</td>\n",
       "      <td>35717.000000</td>\n",
       "    </tr>\n",
       "    <tr>\n",
       "      <td>mean</td>\n",
       "      <td>1397.550130</td>\n",
       "      <td>642.228911</td>\n",
       "      <td>10.881205</td>\n",
       "      <td>11.787524</td>\n",
       "      <td>0.493150</td>\n",
       "    </tr>\n",
       "    <tr>\n",
       "      <td>std</td>\n",
       "      <td>1179.326833</td>\n",
       "      <td>656.955535</td>\n",
       "      <td>0.752064</td>\n",
       "      <td>2.617731</td>\n",
       "      <td>0.270985</td>\n",
       "    </tr>\n",
       "    <tr>\n",
       "      <td>min</td>\n",
       "      <td>220.000000</td>\n",
       "      <td>-8.000000</td>\n",
       "      <td>10.000000</td>\n",
       "      <td>7.000000</td>\n",
       "      <td>0.000000</td>\n",
       "    </tr>\n",
       "    <tr>\n",
       "      <td>25%</td>\n",
       "      <td>500.000000</td>\n",
       "      <td>210.000000</td>\n",
       "      <td>10.000000</td>\n",
       "      <td>10.000000</td>\n",
       "      <td>0.255881</td>\n",
       "    </tr>\n",
       "    <tr>\n",
       "      <td>50%</td>\n",
       "      <td>849.000000</td>\n",
       "      <td>446.000000</td>\n",
       "      <td>11.000000</td>\n",
       "      <td>12.000000</td>\n",
       "      <td>0.471872</td>\n",
       "    </tr>\n",
       "    <tr>\n",
       "      <td>75%</td>\n",
       "      <td>2009.000000</td>\n",
       "      <td>798.000000</td>\n",
       "      <td>11.000000</td>\n",
       "      <td>14.000000</td>\n",
       "      <td>0.717504</td>\n",
       "    </tr>\n",
       "    <tr>\n",
       "      <td>max</td>\n",
       "      <td>4675.000000</td>\n",
       "      <td>4327.000000</td>\n",
       "      <td>12.000000</td>\n",
       "      <td>16.000000</td>\n",
       "      <td>1.000000</td>\n",
       "    </tr>\n",
       "  </tbody>\n",
       "</table>\n",
       "</div>"
      ],
      "text/plain": [
       "           Capacity     Occupancy         Month          Hour  Occupancy_pc\n",
       "count  35717.000000  35717.000000  35717.000000  35717.000000  35717.000000\n",
       "mean    1397.550130    642.228911     10.881205     11.787524      0.493150\n",
       "std     1179.326833    656.955535      0.752064      2.617731      0.270985\n",
       "min      220.000000     -8.000000     10.000000      7.000000      0.000000\n",
       "25%      500.000000    210.000000     10.000000     10.000000      0.255881\n",
       "50%      849.000000    446.000000     11.000000     12.000000      0.471872\n",
       "75%     2009.000000    798.000000     11.000000     14.000000      0.717504\n",
       "max     4675.000000   4327.000000     12.000000     16.000000      1.000000"
      ]
     },
     "execution_count": 23,
     "metadata": {},
     "output_type": "execute_result"
    }
   ],
   "source": [
    "data.describe()"
   ]
  },
  {
   "cell_type": "markdown",
   "metadata": {},
   "source": [
    "# Визуализация данных"
   ]
  },
  {
   "cell_type": "code",
   "execution_count": 24,
   "metadata": {},
   "outputs": [
    {
     "data": {
      "text/plain": [
       "Text(0, 0.5, 'Заполняемость, в долях от 1')"
      ]
     },
     "execution_count": 24,
     "metadata": {},
     "output_type": "execute_result"
    },
    {
     "data": {
      "image/png": "[encoded data removed]",
      "text/plain": [
       "<Figure size 864x576 with 1 Axes>"
      ]
     },
     "metadata": {},
     "output_type": "display_data"
    }
   ],
   "source": [
    "plt.scatter(data.LastUpdated, data.Occupancy_pc)\n",
    "plt.title('Заполняемость парковок')\n",
    "plt.xlabel('Время суток')\n",
    "plt.ylabel('Заполняемость, в долях от 1')"
   ]
  },
  {
   "cell_type": "markdown",
   "metadata": {},
   "source": [
    "Общий график распределения заполняемости парковок по временной шкале неинформативен, т.к. не позволяет установить зависимость рассматриваемого параметра от характеристик парковки и внешних факторов. Целесообразно проанализировать зависимость спроса на парковочные места от основных характерик, влияющих на спрос:\n",
    "- время суток;\n",
    "- время года;\n",
    "- размер (вместимость) парковки;\n",
    "- расположение парковки (относительно центра города, зон деловой активности и туризма, транспортных узлов)."
   ]
  },
  {
   "cell_type": "code",
   "execution_count": 25,
   "metadata": {},
   "outputs": [],
   "source": [
    "# Средняя заполняемость по времени суток:\n",
    "hourly_data = data.groupby('Hour')['Occupancy_pc'].mean()"
   ]
  },
  {
   "cell_type": "code",
   "execution_count": 26,
   "metadata": {},
   "outputs": [
    {
     "data": {
      "text/plain": [
       "Text(0, 0.5, 'Заполняемость, в долях от 1')"
      ]
     },
     "execution_count": 26,
     "metadata": {},
     "output_type": "execute_result"
    },
    {
     "data": {
      "image/png": "[encoded data removed]",
      "text/plain": [
       "<Figure size 864x576 with 1 Axes>"
      ]
     },
     "metadata": {},
     "output_type": "display_data"
    }
   ],
   "source": [
    "plt.bar(hourly_data.index, hourly_data.values)\n",
    "plt.title('Средняя заполняемость парковок')\n",
    "plt.xlabel('Время суток')\n",
    "plt.ylabel('Заполняемость, в долях от 1')"
   ]
  },
  {
   "cell_type": "markdown",
   "metadata": {},
   "source": [
    "В исходном файле собраны данные о заполняемости парковок в промежутке с 7 утра до 16.00. Пик спроса приходится на временной интервал с 12.00 до 14.00 (средняя заполняемость - около 60%). Наиболее низкая заполняемость наблюдается в утренние часы (7.00 - 8.00)."
   ]
  },
  {
   "cell_type": "code",
   "execution_count": 27,
   "metadata": {},
   "outputs": [],
   "source": [
    "# Средняя заполняемость по месяцам:\n",
    "monthly_data = data.groupby('Month')['Occupancy_pc'].mean()"
   ]
  },
  {
   "cell_type": "code",
   "execution_count": 28,
   "metadata": {},
   "outputs": [
    {
     "data": {
      "text/plain": [
       "Text(0, 0.5, 'Заполняемость, в долях от 1')"
      ]
     },
     "execution_count": 28,
     "metadata": {},
     "output_type": "execute_result"
    },
    {
     "data": {
      "image/png": "[encoded data removed]",
      "text/plain": [
       "<Figure size 864x576 with 1 Axes>"
      ]
     },
     "metadata": {},
     "output_type": "display_data"
    }
   ],
   "source": [
    "plt.bar(monthly_data.index, monthly_data.values)\n",
    "plt.title('Средняя заполняемость парковок')\n",
    "plt.xlabel('Месяц')\n",
    "plt.ylabel('Заполняемость, в долях от 1')"
   ]
  },
  {
   "cell_type": "code",
   "execution_count": 29,
   "metadata": {},
   "outputs": [
    {
     "data": {
      "text/plain": [
       "11    15012\n",
       "10    12474\n",
       "12     8231\n",
       "Name: Month, dtype: int64"
      ]
     },
     "execution_count": 29,
     "metadata": {},
     "output_type": "execute_result"
    }
   ],
   "source": [
    "data.Month.value_counts()"
   ]
  },
  {
   "cell_type": "markdown",
   "metadata": {},
   "source": [
    "По какой-то необъяснимой причине в исходных данных собраны показатели только за 3 месяца. Однако даже по этим усеченным данным видно, что спрос на парковочные места в течение года неодинаков и увеличивается в декабре по сравнению с предшествующими месяцами."
   ]
  },
  {
   "cell_type": "code",
   "execution_count": 30,
   "metadata": {},
   "outputs": [],
   "source": [
    "# Делим парковки на группы по вместимости:\n",
    "data['Size'] = pd.cut(data.Capacity, bins=[200, 500, 1000, 2000, 3000, 4000, 5000],\n",
    "                      labels=['200-500 lots', '500-1000 lots', '1000-2000 lots',\n",
    "                              '2000-3000 lots', '3000-4000 lots', '4000-5000 lots'])"
   ]
  },
  {
   "cell_type": "code",
   "execution_count": 31,
   "metadata": {},
   "outputs": [],
   "source": [
    "# Средняя заполняемость в зависимости от вместимости парковки:\n",
    "size_data = data.groupby('Size')['Occupancy_pc'].mean()"
   ]
  },
  {
   "cell_type": "code",
   "execution_count": 32,
   "metadata": {},
   "outputs": [
    {
     "data": {
      "text/plain": [
       "Text(0, 0.5, 'Заполняемость, в долях от 1')"
      ]
     },
     "execution_count": 32,
     "metadata": {},
     "output_type": "execute_result"
    },
    {
     "data": {
      "image/png": "[encoded data removed]",
      "text/plain": [
       "<Figure size 864x576 with 1 Axes>"
      ]
     },
     "metadata": {},
     "output_type": "display_data"
    }
   ],
   "source": [
    "plt.bar(size_data.index, size_data.values)\n",
    "plt.title('Средняя заполняемость парковок')\n",
    "plt.xlabel('Вместимость парковки, мест')\n",
    "plt.ylabel('Заполняемость, в долях от 1')"
   ]
  },
  {
   "cell_type": "markdown",
   "metadata": {},
   "source": [
    "Наиболее высокая заполняемость характерна для небольших парковок вместимостью до 500 мест. По мере увеличения вместимости парковки показатели заполняемости преимущественно снижаются. Наиболее крупные парковки на 3000-5000 мест более востребованы, чем парковки на 2000-3000 мест, что может объясняться их более выгодным расположением (вблизи аэропорта, транспортных узлов и проч.)."
   ]
  },
  {
   "cell_type": "code",
   "execution_count": 33,
   "metadata": {},
   "outputs": [],
   "source": [
    "# Средняя заполняемость в зависимости от местоположения:\n",
    "zone_data = data.groupby('SystemCodeNumber')['Occupancy_pc'].mean()"
   ]
  },
  {
   "cell_type": "code",
   "execution_count": 34,
   "metadata": {},
   "outputs": [
    {
     "data": {
      "text/plain": [
       "Text(0, 0.5, 'Заполняемость, в долях от 1')"
      ]
     },
     "execution_count": 34,
     "metadata": {},
     "output_type": "execute_result"
    },
    {
     "data": {
      "image/png": "[encoded data removed]",
      "text/plain": [
       "<Figure size 864x576 with 1 Axes>"
      ]
     },
     "metadata": {},
     "output_type": "display_data"
    }
   ],
   "source": [
    "plt.bar(zone_data.index, zone_data.values)\n",
    "plt.title('Средняя заполняемость парковок')\n",
    "plt.xticks(rotation=90)\n",
    "plt.ylabel('Заполняемость, в долях от 1')"
   ]
  },
  {
   "cell_type": "markdown",
   "metadata": {},
   "source": [
    "График подтверждает, что расположение парковки существенно влияет на спрос. Парковки, наименования (идентификаторы) которых содержат схожие символы, имеют разную заполняемость, поэтому нецелесообразно объединять их в какие-то группы. Для характеристики местоположения будут использоваться исходные 30 наименований в столбце 'SystemCodeNumber'."
   ]
  },
  {
   "cell_type": "code",
   "execution_count": 35,
   "metadata": {},
   "outputs": [
    {
     "data": {
      "text/plain": [
       "Text(0.5, 1, 'Матрица корреляции')"
      ]
     },
     "execution_count": 35,
     "metadata": {},
     "output_type": "execute_result"
    },
    {
     "data": {
      "image/png": "[encoded data removed]",
      "text/plain": [
       "<Figure size 864x576 with 2 Axes>"
      ]
     },
     "metadata": {},
     "output_type": "display_data"
    }
   ],
   "source": [
    "correlation = data.corr()\n",
    "ax = sns.heatmap(correlation, center=0, annot=True, cmap='RdBu_r')\n",
    "l, r = ax.get_ylim()\n",
    "ax.set_ylim(l + 0.5, r - 0.5)\n",
    "plt.yticks(rotation=0)\n",
    "plt.title('Матрица корреляции')"
   ]
  },
  {
   "cell_type": "markdown",
   "metadata": {},
   "source": [
    "# Подготовка данных для модели"
   ]
  },
  {
   "cell_type": "code",
   "execution_count": 36,
   "metadata": {},
   "outputs": [],
   "source": [
    "# Прогнозируемые значения:\n",
    "y = data.Occupancy_pc"
   ]
  },
  {
   "cell_type": "code",
   "execution_count": 37,
   "metadata": {},
   "outputs": [],
   "source": [
    "# Входные параметры:\n",
    "X = data[['SystemCodeNumber', 'Capacity', 'Month', 'Hour']]"
   ]
  },
  {
   "cell_type": "code",
   "execution_count": 38,
   "metadata": {},
   "outputs": [],
   "source": [
    "# Списки числовых и категорийных параметров:\n",
    "num_cols = X.select_dtypes(include='number').columns\n",
    "cat_cols = X.select_dtypes(exclude='number').columns"
   ]
  },
  {
   "cell_type": "code",
   "execution_count": 39,
   "metadata": {},
   "outputs": [],
   "source": [
    "# Преобразование данных (кодирование категорийных столбцов,\n",
    "# нормирование числовых значений):\n",
    "ct = make_column_transformer(\n",
    "    (OneHotEncoder(), cat_cols),\n",
    "    (StandardScaler(), num_cols),\n",
    "    remainder='passthrough')"
   ]
  },
  {
   "cell_type": "code",
   "execution_count": 40,
   "metadata": {},
   "outputs": [],
   "source": [
    "# Нормирование данных:\n",
    "X_processed = ct.fit_transform(X)"
   ]
  },
  {
   "cell_type": "markdown",
   "metadata": {},
   "source": [
    "# Подбор регрессионной модели"
   ]
  },
  {
   "cell_type": "code",
   "execution_count": 41,
   "metadata": {},
   "outputs": [],
   "source": [
    "# Инструмент для разбиения данных на группы при кросс-валидации:\n",
    "kf = KFold(10, shuffle=True)"
   ]
  },
  {
   "cell_type": "code",
   "execution_count": 42,
   "metadata": {},
   "outputs": [],
   "source": [
    "# Список рассматриваемых моделей:\n",
    "models = [('Decision Tree', DecisionTreeRegressor()),\n",
    "          ('Gradient Boosting', GradientBoostingRegressor()),\n",
    "          ('Random Forest', RandomForestRegressor(n_estimators=100))]"
   ]
  },
  {
   "cell_type": "code",
   "execution_count": 43,
   "metadata": {},
   "outputs": [
    {
     "name": "stdout",
     "output_type": "stream",
     "text": [
      "Decision Tree: R2 = 0.6830121911910897\n",
      "Gradient Boosting: R2 = 0.6476661126318624\n",
      "Random Forest: R2 = 0.6825828341459588\n"
     ]
    }
   ],
   "source": [
    "# Параметр R2 при кросс-валидации для рассматриваемых моделей:\n",
    "for name, model in models:\n",
    "    rmodel = model\n",
    "    r2 = cross_val_score(rmodel, X_processed, y, cv=kf, scoring='r2', n_jobs=-1).mean()\n",
    "    print(f'{name}: R2 = {r2}')"
   ]
  },
  {
   "cell_type": "code",
   "execution_count": 44,
   "metadata": {},
   "outputs": [
    {
     "name": "stdout",
     "output_type": "stream",
     "text": [
      "Decision Tree: MAE = 0.10701758844158053\n",
      "Gradient Boosting: MAE = 0.12265896119227204\n",
      "Random Forest: MAE = 0.10704371711463004\n"
     ]
    }
   ],
   "source": [
    "# Параметр MAE при кросс-валидации для рассматриваемых моделей:\n",
    "for name, model in models:\n",
    "    rmodel = model\n",
    "    MAE = abs(cross_val_score(rmodel, X_processed, y, cv=kf, scoring='neg_mean_absolute_error', n_jobs=-1).mean())\n",
    "    print(f'{name}: MAE = {MAE}')"
   ]
  },
  {
   "cell_type": "markdown",
   "metadata": {},
   "source": [
    "#### Выводы\n",
    "- Среди рассматриваемых регрессоров наиболее высокую точность показывают модели на основе деревьев решений (Decision Tree и Random Forest).\n",
    "- Коэффициент детерминации R2 для всех моделей составляет менее 0.7. Это свидетельствует о том, что регрессоры не в достаточной степени учитывают факторы, влияющие на изменение прогнозируемого показателя. Потенциально для улучшения моделей можно добавить дополнительные параметры, описывающие локальные особенности расположения парковок, влияние выходных и праздничных дней на их заполняемость.\n",
    "- Средняя ошибка наиболее успешных регрессионных моделей составляет 10.7%."
   ]
  },
  {
   "cell_type": "code",
   "execution_count": null,
   "metadata": {},
   "outputs": [],
   "source": []
  }
 ],
 "metadata": {
  "kernelspec": {
   "display_name": "Python 3",
   "language": "python",
   "name": "python3"
  },
  "language_info": {
   "codemirror_mode": {
    "name": "ipython",
    "version": 3
   },
   "file_extension": ".py",
   "mimetype": "text/x-python",
   "name": "python",
   "nbconvert_exporter": "python",
   "pygments_lexer": "ipython3",
   "version": "3.7.4"
  }
 },
 "nbformat": 4,
 "nbformat_minor": 2
}
